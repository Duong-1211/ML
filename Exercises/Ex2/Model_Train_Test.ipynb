{
 "cells": [
  {
   "cell_type": "markdown",
   "metadata": {
    "id": "IpL5v1Sf3RWI"
   },
   "source": [
    "# House Price Prediction\n",
    "\n",
    "* Trong phần này, bạn sẽ học được cách sử dụng dữ liệu sẵn có để xây dựng một mô hinhf dự đoán (dự đoán giá nhà). \n",
    "\n",
    ">- Xây dựng/ Khởi tạo mô hình như thế nào?\n",
    "- Đưa dữ liệu vào huấn luyện mô hình?\n",
    "- Sử dụng mô hình đã huấn luyện để dự đoán?\n",
    "\n",
    "\n",
    "* Dữ liệu sử dụng: clean_data.csv"
   ]
  },
  {
   "cell_type": "markdown",
   "metadata": {
    "id": "dNJlGEKIWuav"
   },
   "source": [
    "## Load dữ liệu và tiền xử lí trước khi huấn luyện"
   ]
  },
  {
   "cell_type": "markdown",
   "metadata": {
    "id": "9JwQylHvUSiY"
   },
   "source": [
    "1. Import thư viện cần thiết"
   ]
  },
  {
   "cell_type": "code",
   "execution_count": 13,
   "metadata": {
    "id": "gOSX3Cyj3MMb"
   },
   "outputs": [],
   "source": [
    "import numpy as np\n",
    "import pandas as pd\n",
    "import matplotlib.pyplot as plt\n",
    "import seaborn as sns"
   ]
  },
  {
   "cell_type": "code",
   "execution_count": 14,
   "metadata": {
    "id": "xRx0SRBGC54j"
   },
   "outputs": [],
   "source": [
    "pd.set_option(\"display.max_columns\", None)\n",
    "pd.set_option(\"display.max_rows\", None)"
   ]
  },
  {
   "cell_type": "markdown",
   "metadata": {
    "id": "n9kUbMbfVOEI"
   },
   "source": [
    "2. Load dữ liệu cần thiết"
   ]
  },
  {
   "cell_type": "code",
   "execution_count": 15,
   "metadata": {
    "colab": {
     "base_uri": "https://localhost:8080/"
    },
    "id": "zs-JKRElVCWU",
    "outputId": "d06f060e-a4ad-4de8-929d-64e16afdeecd"
   },
   "outputs": [
    {
     "name": "stdout",
     "output_type": "stream",
     "text": [
      "[WinError 3] The system cannot find the path specified: '/content/drive/MyDrive/ML_course/Preprocessing_practice/1.Practice/Bangalore_House_Price_data'\n",
      "d:\\Workspaces\\FoundationModelLab\\ML\\Exercises\\Ex2\n"
     ]
    }
   ],
   "source": [
    "%cd /content/drive/MyDrive/ML_course/Preprocessing_practice/1.Practice/Bangalore_House_Price_data\n",
    "#Nếu chạy trên colab thì cũng cần trỏ tới thư mục phù hợp để lấy data"
   ]
  },
  {
   "cell_type": "code",
   "execution_count": 16,
   "metadata": {
    "colab": {
     "base_uri": "https://localhost:8080/"
    },
    "id": "Gp8WO-ZhNc6w",
    "outputId": "7502f767-9c6c-4653-c741-980d464d62de"
   },
   "outputs": [
    {
     "data": {
      "text/plain": [
       "(7463, 6)"
      ]
     },
     "execution_count": 16,
     "metadata": {},
     "output_type": "execute_result"
    }
   ],
   "source": [
    "path = \"clean_data.csv\"\n",
    "df = pd.read_csv(path)\n",
    "df.shape"
   ]
  },
  {
   "cell_type": "code",
   "execution_count": 17,
   "metadata": {
    "colab": {
     "base_uri": "https://localhost:8080/",
     "height": 204
    },
    "id": "VFKjUlZtPQgS",
    "outputId": "44aad8bf-43ca-442c-8606-617aa38ce6c6"
   },
   "outputs": [
    {
     "data": {
      "text/html": [
       "<div>\n",
       "<style scoped>\n",
       "    .dataframe tbody tr th:only-of-type {\n",
       "        vertical-align: middle;\n",
       "    }\n",
       "\n",
       "    .dataframe tbody tr th {\n",
       "        vertical-align: top;\n",
       "    }\n",
       "\n",
       "    .dataframe thead th {\n",
       "        text-align: right;\n",
       "    }\n",
       "</style>\n",
       "<table border=\"1\" class=\"dataframe\">\n",
       "  <thead>\n",
       "    <tr style=\"text-align: right;\">\n",
       "      <th></th>\n",
       "      <th>bath</th>\n",
       "      <th>balcony</th>\n",
       "      <th>price</th>\n",
       "      <th>total_sqft_float</th>\n",
       "      <th>bhk</th>\n",
       "      <th>price_per_sqft</th>\n",
       "    </tr>\n",
       "  </thead>\n",
       "  <tbody>\n",
       "    <tr>\n",
       "      <th>0</th>\n",
       "      <td>2.0</td>\n",
       "      <td>1.0</td>\n",
       "      <td>70.0</td>\n",
       "      <td>1100.0</td>\n",
       "      <td>2</td>\n",
       "      <td>0.063636</td>\n",
       "    </tr>\n",
       "    <tr>\n",
       "      <th>1</th>\n",
       "      <td>3.0</td>\n",
       "      <td>2.0</td>\n",
       "      <td>150.0</td>\n",
       "      <td>1672.0</td>\n",
       "      <td>3</td>\n",
       "      <td>0.089713</td>\n",
       "    </tr>\n",
       "    <tr>\n",
       "      <th>2</th>\n",
       "      <td>3.0</td>\n",
       "      <td>3.0</td>\n",
       "      <td>149.0</td>\n",
       "      <td>1750.0</td>\n",
       "      <td>3</td>\n",
       "      <td>0.085143</td>\n",
       "    </tr>\n",
       "    <tr>\n",
       "      <th>3</th>\n",
       "      <td>3.0</td>\n",
       "      <td>2.0</td>\n",
       "      <td>150.0</td>\n",
       "      <td>1750.0</td>\n",
       "      <td>3</td>\n",
       "      <td>0.085714</td>\n",
       "    </tr>\n",
       "    <tr>\n",
       "      <th>4</th>\n",
       "      <td>2.0</td>\n",
       "      <td>2.0</td>\n",
       "      <td>40.0</td>\n",
       "      <td>1250.0</td>\n",
       "      <td>2</td>\n",
       "      <td>0.032000</td>\n",
       "    </tr>\n",
       "  </tbody>\n",
       "</table>\n",
       "</div>"
      ],
      "text/plain": [
       "   bath  balcony  price  total_sqft_float  bhk  price_per_sqft\n",
       "0   2.0      1.0   70.0            1100.0    2        0.063636\n",
       "1   3.0      2.0  150.0            1672.0    3        0.089713\n",
       "2   3.0      3.0  149.0            1750.0    3        0.085143\n",
       "3   3.0      2.0  150.0            1750.0    3        0.085714\n",
       "4   2.0      2.0   40.0            1250.0    2        0.032000"
      ]
     },
     "execution_count": 17,
     "metadata": {},
     "output_type": "execute_result"
    }
   ],
   "source": [
    "df.head()"
   ]
  },
  {
   "cell_type": "markdown",
   "metadata": {
    "id": "axowdsatcJaQ"
   },
   "source": [
    "3. Phân chia dữ liệu train - test"
   ]
  },
  {
   "cell_type": "code",
   "execution_count": 18,
   "metadata": {
    "colab": {
     "base_uri": "https://localhost:8080/"
    },
    "id": "PU_DeM90b7As",
    "outputId": "d638fea4-5bd9-44ab-83ab-cbbecfd125c2"
   },
   "outputs": [
    {
     "name": "stdout",
     "output_type": "stream",
     "text": [
      "Shape of X =  (7463, 5)\n",
      "Shape of y =  (7463,)\n"
     ]
    }
   ],
   "source": [
    "# Xác định thông tin thuộc tính X và nhãn y\n",
    "X = df.drop(\"price\", axis=1)\n",
    "y = df['price']\n",
    "print('Shape of X = ', X.shape)\n",
    "print('Shape of y = ', y.shape)"
   ]
  },
  {
   "cell_type": "code",
   "execution_count": 19,
   "metadata": {
    "colab": {
     "base_uri": "https://localhost:8080/"
    },
    "id": "aNVLPL-rcNwa",
    "outputId": "27af3483-f9c1-4019-fbe4-a4b5f6c7f17d"
   },
   "outputs": [
    {
     "name": "stdout",
     "output_type": "stream",
     "text": [
      "Shape of X_train =  (5970, 5)\n",
      "Shape of y_train =  (5970,)\n",
      "Shape of X_test =  (1493, 5)\n",
      "Shape of y_test =  (1493,)\n"
     ]
    }
   ],
   "source": [
    "#Chia dữ liệu - train_test_split\n",
    "from sklearn.model_selection import train_test_split\n",
    "X_train, X_test, y_train, y_test = train_test_split(X, y, test_size = 0.2, random_state = 51)\n",
    "print('Shape of X_train = ', X_train.shape)\n",
    "print('Shape of y_train = ', y_train.shape)\n",
    "print('Shape of X_test = ', X_test.shape)\n",
    "print('Shape of y_test = ', y_test.shape)"
   ]
  },
  {
   "cell_type": "markdown",
   "metadata": {
    "id": "k65LC4_qcYpm"
   },
   "source": [
    "4. Feature Scaling\n",
    "\n",
    "> If feature scaling is not done, then a machine learning algorithm tends to weigh greater values, higher and consider smaller values as the lower values, regardless of the unit of the values."
   ]
  },
  {
   "cell_type": "code",
   "execution_count": 20,
   "metadata": {
    "id": "D1BCc8gAcUi6"
   },
   "outputs": [],
   "source": [
    "#Chuẩn hóa giá trị của các feature trong 1 phạm vi nào đó.\n",
    "\n",
    "from sklearn.preprocessing import StandardScaler\n",
    "sc = StandardScaler()\n",
    "sc.fit(X_train)\n",
    "X_train= sc.transform(X_train)\n",
    "X_test = sc.transform(X_test)"
   ]
  },
  {
   "cell_type": "markdown",
   "metadata": {
    "id": "Oh43OeUnfZAq"
   },
   "source": [
    "## Machine Learning Model Training"
   ]
  },
  {
   "cell_type": "markdown",
   "metadata": {
    "id": "d9-YKvESfcmd"
   },
   "source": [
    "### Linear Regression"
   ]
  },
  {
   "cell_type": "code",
   "execution_count": 21,
   "metadata": {
    "id": "GfPL9vJLcfXr"
   },
   "outputs": [],
   "source": [
    "from sklearn.linear_model import LinearRegression\n",
    "from sklearn.linear_model import Lasso\n",
    "from sklearn.linear_model import Ridge\n",
    "from sklearn.metrics import mean_squared_error\n",
    "lr = LinearRegression()\n",
    "lr_lasso = Lasso()\n",
    "lr_ridge = Ridge()"
   ]
  },
  {
   "cell_type": "code",
   "execution_count": 22,
   "metadata": {
    "id": "pG9byhg5YWGR"
   },
   "outputs": [],
   "source": [
    "def rmse(y_test, y_pred):\n",
    "  return np.sqrt(mean_squared_error(y_test, y_pred))"
   ]
  },
  {
   "cell_type": "code",
   "execution_count": 23,
   "metadata": {
    "colab": {
     "base_uri": "https://localhost:8080/"
    },
    "id": "WYm8ArSoff1p",
    "outputId": "32b30a0c-b18b-49ea-bd12-08efe116aa29"
   },
   "outputs": [
    {
     "data": {
      "text/plain": [
       "(0.8918294075804046, 30.743706112132347)"
      ]
     },
     "execution_count": 23,
     "metadata": {},
     "output_type": "execute_result"
    }
   ],
   "source": [
    "lr.fit(X_train, y_train)\n",
    "lr_score = lr.score(X_test, y_test) # with all num var 0.7842744111909903\n",
    "lr_rmse = rmse(y_test, lr.predict(X_test))\n",
    "lr_score, lr_rmse"
   ]
  },
  {
   "cell_type": "code",
   "execution_count": 24,
   "metadata": {
    "colab": {
     "base_uri": "https://localhost:8080/"
    },
    "id": "sEhTsgE6fnXp",
    "outputId": "84007445-3a09-4562-9522-ef3211ab1e72"
   },
   "outputs": [
    {
     "data": {
      "text/plain": [
       "(0.8922504101855343, 30.68382015590221)"
      ]
     },
     "execution_count": 24,
     "metadata": {},
     "output_type": "execute_result"
    }
   ],
   "source": [
    "# Lasso \n",
    "lr_lasso.fit(X_train, y_train)\n",
    "lr_lasso_score=lr_lasso.score(X_test, y_test) # with balcony 0.5162364637824872\n",
    "lr_lasso_rmse = rmse(y_test, lr_lasso.predict(X_test))\n",
    "lr_lasso_score, lr_lasso_rmse"
   ]
  },
  {
   "cell_type": "code",
   "execution_count": 25,
   "metadata": {
    "colab": {
     "base_uri": "https://localhost:8080/"
    },
    "id": "Hhv5TxYlXBFJ",
    "outputId": "b6e4457d-0a81-47b9-fb90-b5c78d80dd0c"
   },
   "outputs": [
    {
     "data": {
      "text/plain": [
       "(0.8918411146553489, 30.74204240389932)"
      ]
     },
     "execution_count": 25,
     "metadata": {},
     "output_type": "execute_result"
    }
   ],
   "source": [
    "# Ridge\n",
    "lr_ridge.fit(X_train, y_train)\n",
    "lr_ridge_score = lr_ridge.score(X_test, y_test) # with all num var 0.7842744111909903\n",
    "lr_ridge_rmse = rmse(y_test, lr_ridge.predict(X_test))\n",
    "lr_ridge_score, lr_ridge_rmse"
   ]
  },
  {
   "cell_type": "markdown",
   "metadata": {
    "id": "73sB16uxfwRm"
   },
   "source": [
    "### Support Vector Machine"
   ]
  },
  {
   "cell_type": "code",
   "execution_count": 26,
   "metadata": {
    "colab": {
     "base_uri": "https://localhost:8080/"
    },
    "id": "aep38HxxfsbA",
    "outputId": "9c4080b0-002f-4c98-c524-2f36fb89d573"
   },
   "outputs": [
    {
     "data": {
      "text/plain": [
       "(0.5171653603306787, 64.95324094100567)"
      ]
     },
     "execution_count": 26,
     "metadata": {},
     "output_type": "execute_result"
    }
   ],
   "source": [
    "from sklearn.svm import SVR\n",
    "svr = SVR()\n",
    "svr.fit(X_train,y_train)\n",
    "svr_score=svr.score(X_test,y_test)\n",
    "svr_rmse = rmse(y_test, svr.predict(X_test))\n",
    "svr_score, svr_rmse"
   ]
  },
  {
   "cell_type": "markdown",
   "metadata": {
    "id": "w9-nexcsf5G3"
   },
   "source": [
    "### Random Forest"
   ]
  },
  {
   "cell_type": "code",
   "execution_count": 27,
   "metadata": {
    "colab": {
     "base_uri": "https://localhost:8080/"
    },
    "id": "ArlNrxFJf1ey",
    "outputId": "eabd9d6d-5612-43df-8560-735fedc47ca7"
   },
   "outputs": [
    {
     "data": {
      "text/plain": [
       "(0.9867952068728822, 10.741561434996862)"
      ]
     },
     "execution_count": 27,
     "metadata": {},
     "output_type": "execute_result"
    }
   ],
   "source": [
    "from sklearn.ensemble import RandomForestRegressor\n",
    "rfr = RandomForestRegressor()\n",
    "rfr.fit(X_train,y_train)\n",
    "rfr_score=rfr.score(X_test,y_test)\n",
    "rfr_rmse = rmse(y_test, rfr.predict(X_test))\n",
    "rfr_score, rfr_rmse"
   ]
  },
  {
   "cell_type": "markdown",
   "metadata": {
    "id": "HMfJzdNkimif"
   },
   "source": [
    "## Test Model"
   ]
  },
  {
   "cell_type": "code",
   "execution_count": 36,
   "metadata": {
    "id": "udzrDV2fisfs"
   },
   "outputs": [],
   "source": [
    "def predict_house_price(model,bath,balcony,total_sqft_int,bhk,price_per_sqft,area_type,availability,location):\n",
    "\n",
    "  x =np.zeros(len(X.columns))\n",
    "\n",
    "  x[0]=bath\n",
    "  x[1]=balcony\n",
    "  x[2]=total_sqft_int\n",
    "  x[3]=bhk\n",
    "  x[4]=price_per_sqft\n",
    "\n",
    "  if \"availability\"==\"Ready To Move\":\n",
    "    x[8]=1\n",
    "\n",
    "  if 'area_type'+area_type in X.columns:\n",
    "    area_type_index = np.where(X.columns==\"area_type\"+area_type)[0][0]\n",
    "    x[area_type_index] =1\n",
    "\n",
    "  if 'location_'+location in X.columns:\n",
    "    loc_index = np.where(X.columns==\"location_\"+location)[0][0]\n",
    "    x[loc_index] =1\n",
    "\n",
    "  x = sc.transform([x])[0] \n",
    "\n",
    "  return model.predict([x])[0] "
   ]
  },
  {
   "cell_type": "markdown",
   "metadata": {
    "id": "WPUKwwK5SFBK"
   },
   "source": [
    "<table style=\"width:100%;border: 1px solid black;\">\n",
    "  <tr>\n",
    "    <th>area_type</th>\n",
    "    <th>availability</th>\n",
    "    <th>location</th>\n",
    "      <th>bath</th>\n",
    "      <th>balcony</th>\n",
    "      <th>total_sqft_int</th>\n",
    "      <th>bhk</th>\n",
    "      <th>price_per_sqft</th>\n",
    "  </tr>\n",
    "  <tr>\n",
    "    <td>Plot Area</td>\n",
    "    <td>Ready to Move</td>\n",
    "    <td>Devarabeesana</td>\n",
    "    <td>3</td>\n",
    "    <td>2</td>\n",
    "    <td>1672</td>\n",
    "    <td>3</td>\n",
    "    <td>8971.291866</td>\n",
    "  </tr>\n",
    "</table>"
   ]
  },
  {
   "cell_type": "code",
   "execution_count": 29,
   "metadata": {
    "colab": {
     "base_uri": "https://localhost:8080/"
    },
    "id": "cP2-LZ41GVd2",
    "outputId": "a09dd2fa-3c17-4854-abb4-76730603473f"
   },
   "outputs": [
    {
     "name": "stdout",
     "output_type": "stream",
     "text": [
      "Test Linear Regression:  21064307.004978377\n",
      "Test Lasso:  20701957.283151872\n"
     ]
    },
    {
     "name": "stderr",
     "output_type": "stream",
     "text": [
      "c:\\Users\\admin\\anaconda3\\Lib\\site-packages\\sklearn\\utils\\validation.py:2749: UserWarning: X does not have valid feature names, but StandardScaler was fitted with feature names\n",
      "  warnings.warn(\n",
      "c:\\Users\\admin\\anaconda3\\Lib\\site-packages\\sklearn\\utils\\validation.py:2749: UserWarning: X does not have valid feature names, but StandardScaler was fitted with feature names\n",
      "  warnings.warn(\n"
     ]
    }
   ],
   "source": [
    "# Test Linear Regression\n",
    "lr_test = predict_house_price(model=lr, bath=3,balcony=2,total_sqft_int=1672,bhk=3,price_per_sqft=8971.291866,area_type=\"Plot  Area\",availability=\"Ready To Move\",location=\"Devarabeesana Halli\")\n",
    "print(\"Test Linear Regression: \", lr_test)\n",
    "# Test Lasso\n",
    "lr_lasso_test = predict_house_price(model=lr_lasso, bath=3,balcony=2,total_sqft_int=1672,bhk=3,price_per_sqft=8971.291866,area_type=\"Plot  Area\",availability=\"Ready To Move\",location=\"Devarabeesana Halli\")\n",
    "print(\"Test Lasso: \", lr_lasso_test)"
   ]
  },
  {
   "cell_type": "code",
   "execution_count": 30,
   "metadata": {
    "colab": {
     "base_uri": "https://localhost:8080/"
    },
    "id": "FT6oIIPlHRmx",
    "outputId": "4ba6e87d-3090-4a35-fc52-c4cf2839b51b"
   },
   "outputs": [
    {
     "name": "stdout",
     "output_type": "stream",
     "text": [
      "Test SVM:  140.4123889213441\n"
     ]
    },
    {
     "name": "stderr",
     "output_type": "stream",
     "text": [
      "c:\\Users\\admin\\anaconda3\\Lib\\site-packages\\sklearn\\utils\\validation.py:2749: UserWarning: X does not have valid feature names, but StandardScaler was fitted with feature names\n",
      "  warnings.warn(\n"
     ]
    }
   ],
   "source": [
    "# Test SVM\n",
    "svm_test = predict_house_price(model=svr, bath=3,balcony=2,total_sqft_int=1750,bhk=3,price_per_sqft=8571.428571,area_type=\"Super built-up\",availability=\"Ready To Move\",location=\"Devarabeesana Halli\")\n",
    "print(\"Test SVM: \", svm_test)"
   ]
  },
  {
   "cell_type": "code",
   "execution_count": 31,
   "metadata": {
    "colab": {
     "base_uri": "https://localhost:8080/"
    },
    "id": "TXG6GFOxGw6w",
    "outputId": "39b123cd-c4d8-462b-b973-5320273f411c"
   },
   "outputs": [
    {
     "name": "stdout",
     "output_type": "stream",
     "text": [
      "Test Random Forest:  378.44\n"
     ]
    },
    {
     "name": "stderr",
     "output_type": "stream",
     "text": [
      "c:\\Users\\admin\\anaconda3\\Lib\\site-packages\\sklearn\\utils\\validation.py:2749: UserWarning: X does not have valid feature names, but StandardScaler was fitted with feature names\n",
      "  warnings.warn(\n"
     ]
    }
   ],
   "source": [
    "# Test Random Forest\n",
    "test_random_forest = predict_house_price(model=rfr,bath=3,balcony=3,total_sqft_int=1750,bhk=3,price_per_sqft=8514.285714,area_type=\"Built-up Area\",availability=\"Ready To Move\",location=\"Devarabeesana Halli\")\n",
    "print(\"Test Random Forest: \", test_random_forest)"
   ]
  },
  {
   "cell_type": "markdown",
   "metadata": {
    "id": "oC0mBkarKUzw"
   },
   "source": [
    "## Save model & load model"
   ]
  },
  {
   "cell_type": "code",
   "execution_count": 32,
   "metadata": {
    "colab": {
     "base_uri": "https://localhost:8080/"
    },
    "id": "0FepBAKJHHuf",
    "outputId": "fdd0e289-677d-4a32-bf06-db91b5112991"
   },
   "outputs": [
    {
     "data": {
      "text/plain": [
       "['bangalore_house_price_prediction_model.pkl']"
      ]
     },
     "execution_count": 32,
     "metadata": {},
     "output_type": "execute_result"
    }
   ],
   "source": [
    "import joblib\n",
    "joblib.dump(rfr, 'bangalore_house_price_prediction_model.pkl')"
   ]
  },
  {
   "cell_type": "code",
   "execution_count": 33,
   "metadata": {
    "id": "y9pzeYYLKm6E"
   },
   "outputs": [],
   "source": [
    "bangalore_house_price_prediction_model = joblib.load(\"bangalore_house_price_prediction_model.pkl\")"
   ]
  },
  {
   "cell_type": "code",
   "execution_count": 34,
   "metadata": {
    "colab": {
     "base_uri": "https://localhost:8080/"
    },
    "id": "Z24uQ9PjK2H0",
    "outputId": "c017311f-1686-4da0-feb1-a0d3597f33ab"
   },
   "outputs": [
    {
     "name": "stderr",
     "output_type": "stream",
     "text": [
      "c:\\Users\\admin\\anaconda3\\Lib\\site-packages\\sklearn\\utils\\validation.py:2749: UserWarning: X does not have valid feature names, but StandardScaler was fitted with feature names\n",
      "  warnings.warn(\n"
     ]
    },
    {
     "data": {
      "text/plain": [
       "163.28600000000003"
      ]
     },
     "execution_count": 34,
     "metadata": {},
     "output_type": "execute_result"
    }
   ],
   "source": [
    "predict_house_price(bangalore_house_price_prediction_model,bath=3,balcony=3,total_sqft_int=150,bhk=3,price_per_sqft=8514.285714,area_type=\"Built-up Area\",availability=\"Ready To Move\",location=\"Devarabeesana Halli\")"
   ]
  }
 ],
 "metadata": {
  "colab": {
   "collapsed_sections": [],
   "name": "Model_Train_Test.ipynb",
   "provenance": [],
   "toc_visible": true
  },
  "kernelspec": {
   "display_name": "base",
   "language": "python",
   "name": "python3"
  },
  "language_info": {
   "codemirror_mode": {
    "name": "ipython",
    "version": 3
   },
   "file_extension": ".py",
   "mimetype": "text/x-python",
   "name": "python",
   "nbconvert_exporter": "python",
   "pygments_lexer": "ipython3",
   "version": "3.12.7"
  }
 },
 "nbformat": 4,
 "nbformat_minor": 1
}

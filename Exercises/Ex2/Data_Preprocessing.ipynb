{
 "cells": [
  {
   "cell_type": "markdown",
   "metadata": {
    "id": "TLTr0ccDf-O6"
   },
   "source": [
    "# Các nội dung chính\n",
    "1. Mục tiêu:\n",
    "*   Nắm được các bước cơ bản trong khâu tiền xử lí dữ liệu.\n",
    "\n",
    "\n",
    "2. Dữ liệu: \n",
    "* Dữ liệu bất động sản - *Bengaluru_House_Data*\n",
    "> Gồm các trường dữ liệu: location, size, total_sqft, price, ...\n",
    "\n",
    "\n",
    "> Link Kaggle: https://www.kaggle.com/amitabhajoy/bengaluru-house-price-data\n",
    "\n",
    "\n",
    "\n",
    "\n",
    "3. Yêu cầu:\n",
    "* Sử dụng các công cụ (Pandas, Seaborn, ...) để thực hiện xem xét, đánh giá đặc điểm của dữ liệu, từ đó đưa ra phương án tiền xử lí dữ liệu (làm sạch, trích xuất thông tin ban đầu, ...)\n",
    "\n",
    "\n"
   ]
  },
  {
   "cell_type": "markdown",
   "metadata": {
    "id": "_uIzmF7Hc_sG"
   },
   "source": [
    "# Nội dung thực hành"
   ]
  },
  {
   "cell_type": "markdown",
   "metadata": {
    "id": "oDZT1ynvSRfY"
   },
   "source": [
    "### Import Libraries"
   ]
  },
  {
   "cell_type": "code",
   "execution_count": 60,
   "metadata": {
    "id": "OkPXjMyZQ-Q0"
   },
   "outputs": [],
   "source": [
    "import numpy as np\n",
    "import pandas as pd \n",
    "import matplotlib.pyplot as plt \n",
    "import seaborn as sns "
   ]
  },
  {
   "cell_type": "markdown",
   "metadata": {
    "id": "AFDpgDYCSWGB"
   },
   "source": [
    "### Load dataset "
   ]
  },
  {
   "cell_type": "markdown",
   "metadata": {
    "id": "niBVXIL2eMgz"
   },
   "source": [
    "1. Đọc dữ liệu bằng pandas, dạng dataframe"
   ]
  },
  {
   "cell_type": "code",
   "execution_count": 61,
   "metadata": {
    "colab": {
     "base_uri": "https://localhost:8080/"
    },
    "id": "tCEOyZu77rXU",
    "outputId": "fbc08261-d266-4ef9-a682-a68ed6963778"
   },
   "outputs": [
    {
     "name": "stdout",
     "output_type": "stream",
     "text": [
      "[WinError 3] The system cannot find the path specified: '/content/drive/MyDrive/Preprocessing_practice/1.Practice/Bangalore_House_Price_data'\n",
      "d:\\Workspaces\\FoundationModelLab\\ML\\Exercises\\Ex2\n"
     ]
    }
   ],
   "source": [
    "%cd /content/drive/MyDrive/Preprocessing_practice/1.Practice/Bangalore_House_Price_data\n",
    "# Nếu chạy trên colab thì cũng cần trỏ tới thư mục phù hợp để lấy data\n",
    "# cd DIR_PATH"
   ]
  },
  {
   "cell_type": "code",
   "execution_count": 62,
   "metadata": {
    "colab": {
     "base_uri": "https://localhost:8080/"
    },
    "id": "ZhD-jJYtSVkh",
    "outputId": "68f648f1-5003-4673-98f5-98a68ab8fbfb"
   },
   "outputs": [
    {
     "name": "stderr",
     "output_type": "stream",
     "text": [
      "<>:1: SyntaxWarning: invalid escape sequence '\\B'\n",
      "<>:1: SyntaxWarning: invalid escape sequence '\\B'\n",
      "C:\\Users\\admin\\AppData\\Local\\Temp\\ipykernel_9188\\476173179.py:1: SyntaxWarning: invalid escape sequence '\\B'\n",
      "  path = \"Bangalore_House_Price_data\\Bengaluru_House_Data.csv\"\n"
     ]
    },
    {
     "data": {
      "text/plain": [
       "(13320, 9)"
      ]
     },
     "execution_count": 62,
     "metadata": {},
     "output_type": "execute_result"
    }
   ],
   "source": [
    "path = \"Bangalore_House_Price_data\\Bengaluru_House_Data.csv\"\n",
    "df_raw = pd.read_csv(path)\n",
    "df_raw.shape"
   ]
  },
  {
   "cell_type": "markdown",
   "metadata": {
    "id": "vDSFU9SKeMg5"
   },
   "source": [
    "2. Review 5 sample đầu tiên"
   ]
  },
  {
   "cell_type": "code",
   "execution_count": 63,
   "metadata": {
    "colab": {
     "base_uri": "https://localhost:8080/",
     "height": 275
    },
    "id": "K2ZuGoHddACU",
    "outputId": "2cbcc706-d9bd-4a26-a807-f94b300aeabf"
   },
   "outputs": [
    {
     "data": {
      "text/html": [
       "<div>\n",
       "<style scoped>\n",
       "    .dataframe tbody tr th:only-of-type {\n",
       "        vertical-align: middle;\n",
       "    }\n",
       "\n",
       "    .dataframe tbody tr th {\n",
       "        vertical-align: top;\n",
       "    }\n",
       "\n",
       "    .dataframe thead th {\n",
       "        text-align: right;\n",
       "    }\n",
       "</style>\n",
       "<table border=\"1\" class=\"dataframe\">\n",
       "  <thead>\n",
       "    <tr style=\"text-align: right;\">\n",
       "      <th></th>\n",
       "      <th>area_type</th>\n",
       "      <th>availability</th>\n",
       "      <th>location</th>\n",
       "      <th>size</th>\n",
       "      <th>society</th>\n",
       "      <th>total_sqft</th>\n",
       "      <th>bath</th>\n",
       "      <th>balcony</th>\n",
       "      <th>price</th>\n",
       "    </tr>\n",
       "  </thead>\n",
       "  <tbody>\n",
       "    <tr>\n",
       "      <th>0</th>\n",
       "      <td>Super built-up  Area</td>\n",
       "      <td>19-Dec</td>\n",
       "      <td>Electronic City Phase II</td>\n",
       "      <td>2 BHK</td>\n",
       "      <td>Coomee</td>\n",
       "      <td>1056</td>\n",
       "      <td>2.0</td>\n",
       "      <td>1.0</td>\n",
       "      <td>39.07</td>\n",
       "    </tr>\n",
       "    <tr>\n",
       "      <th>1</th>\n",
       "      <td>Plot  Area</td>\n",
       "      <td>Ready To Move</td>\n",
       "      <td>Chikka Tirupathi</td>\n",
       "      <td>4 Bedroom</td>\n",
       "      <td>Theanmp</td>\n",
       "      <td>2600</td>\n",
       "      <td>5.0</td>\n",
       "      <td>3.0</td>\n",
       "      <td>120.00</td>\n",
       "    </tr>\n",
       "    <tr>\n",
       "      <th>2</th>\n",
       "      <td>Built-up  Area</td>\n",
       "      <td>Ready To Move</td>\n",
       "      <td>Uttarahalli</td>\n",
       "      <td>3 BHK</td>\n",
       "      <td>NaN</td>\n",
       "      <td>1440</td>\n",
       "      <td>2.0</td>\n",
       "      <td>3.0</td>\n",
       "      <td>62.00</td>\n",
       "    </tr>\n",
       "    <tr>\n",
       "      <th>3</th>\n",
       "      <td>Super built-up  Area</td>\n",
       "      <td>Ready To Move</td>\n",
       "      <td>Lingadheeranahalli</td>\n",
       "      <td>3 BHK</td>\n",
       "      <td>Soiewre</td>\n",
       "      <td>1521</td>\n",
       "      <td>3.0</td>\n",
       "      <td>1.0</td>\n",
       "      <td>95.00</td>\n",
       "    </tr>\n",
       "    <tr>\n",
       "      <th>4</th>\n",
       "      <td>Super built-up  Area</td>\n",
       "      <td>Ready To Move</td>\n",
       "      <td>Kothanur</td>\n",
       "      <td>2 BHK</td>\n",
       "      <td>NaN</td>\n",
       "      <td>1200</td>\n",
       "      <td>2.0</td>\n",
       "      <td>1.0</td>\n",
       "      <td>51.00</td>\n",
       "    </tr>\n",
       "  </tbody>\n",
       "</table>\n",
       "</div>"
      ],
      "text/plain": [
       "              area_type   availability                  location       size  \\\n",
       "0  Super built-up  Area         19-Dec  Electronic City Phase II      2 BHK   \n",
       "1            Plot  Area  Ready To Move          Chikka Tirupathi  4 Bedroom   \n",
       "2        Built-up  Area  Ready To Move               Uttarahalli      3 BHK   \n",
       "3  Super built-up  Area  Ready To Move        Lingadheeranahalli      3 BHK   \n",
       "4  Super built-up  Area  Ready To Move                  Kothanur      2 BHK   \n",
       "\n",
       "   society total_sqft  bath  balcony   price  \n",
       "0  Coomee        1056   2.0      1.0   39.07  \n",
       "1  Theanmp       2600   5.0      3.0  120.00  \n",
       "2      NaN       1440   2.0      3.0   62.00  \n",
       "3  Soiewre       1521   3.0      1.0   95.00  \n",
       "4      NaN       1200   2.0      1.0   51.00  "
      ]
     },
     "execution_count": 63,
     "metadata": {},
     "output_type": "execute_result"
    }
   ],
   "source": [
    "df_raw.head() # return DataFrame"
   ]
  },
  {
   "cell_type": "markdown",
   "metadata": {
    "id": "qBp_0JM7eMg_"
   },
   "source": [
    "3. Review 5 sample cuối cùng"
   ]
  },
  {
   "cell_type": "code",
   "execution_count": 64,
   "metadata": {
    "colab": {
     "base_uri": "https://localhost:8080/",
     "height": 292
    },
    "id": "sqUihl5AdKVi",
    "outputId": "94d2f7e8-42f3-4649-b45c-6f6cb5882631"
   },
   "outputs": [
    {
     "data": {
      "text/html": [
       "<div>\n",
       "<style scoped>\n",
       "    .dataframe tbody tr th:only-of-type {\n",
       "        vertical-align: middle;\n",
       "    }\n",
       "\n",
       "    .dataframe tbody tr th {\n",
       "        vertical-align: top;\n",
       "    }\n",
       "\n",
       "    .dataframe thead th {\n",
       "        text-align: right;\n",
       "    }\n",
       "</style>\n",
       "<table border=\"1\" class=\"dataframe\">\n",
       "  <thead>\n",
       "    <tr style=\"text-align: right;\">\n",
       "      <th></th>\n",
       "      <th>area_type</th>\n",
       "      <th>availability</th>\n",
       "      <th>location</th>\n",
       "      <th>size</th>\n",
       "      <th>society</th>\n",
       "      <th>total_sqft</th>\n",
       "      <th>bath</th>\n",
       "      <th>balcony</th>\n",
       "      <th>price</th>\n",
       "    </tr>\n",
       "  </thead>\n",
       "  <tbody>\n",
       "    <tr>\n",
       "      <th>13315</th>\n",
       "      <td>Built-up  Area</td>\n",
       "      <td>Ready To Move</td>\n",
       "      <td>Whitefield</td>\n",
       "      <td>5 Bedroom</td>\n",
       "      <td>ArsiaEx</td>\n",
       "      <td>3453</td>\n",
       "      <td>4.0</td>\n",
       "      <td>0.0</td>\n",
       "      <td>231.0</td>\n",
       "    </tr>\n",
       "    <tr>\n",
       "      <th>13316</th>\n",
       "      <td>Super built-up  Area</td>\n",
       "      <td>Ready To Move</td>\n",
       "      <td>Richards Town</td>\n",
       "      <td>4 BHK</td>\n",
       "      <td>NaN</td>\n",
       "      <td>3600</td>\n",
       "      <td>5.0</td>\n",
       "      <td>NaN</td>\n",
       "      <td>400.0</td>\n",
       "    </tr>\n",
       "    <tr>\n",
       "      <th>13317</th>\n",
       "      <td>Built-up  Area</td>\n",
       "      <td>Ready To Move</td>\n",
       "      <td>Raja Rajeshwari Nagar</td>\n",
       "      <td>2 BHK</td>\n",
       "      <td>Mahla T</td>\n",
       "      <td>1141</td>\n",
       "      <td>2.0</td>\n",
       "      <td>1.0</td>\n",
       "      <td>60.0</td>\n",
       "    </tr>\n",
       "    <tr>\n",
       "      <th>13318</th>\n",
       "      <td>Super built-up  Area</td>\n",
       "      <td>18-Jun</td>\n",
       "      <td>Padmanabhanagar</td>\n",
       "      <td>4 BHK</td>\n",
       "      <td>SollyCl</td>\n",
       "      <td>4689</td>\n",
       "      <td>4.0</td>\n",
       "      <td>1.0</td>\n",
       "      <td>488.0</td>\n",
       "    </tr>\n",
       "    <tr>\n",
       "      <th>13319</th>\n",
       "      <td>Super built-up  Area</td>\n",
       "      <td>Ready To Move</td>\n",
       "      <td>Doddathoguru</td>\n",
       "      <td>1 BHK</td>\n",
       "      <td>NaN</td>\n",
       "      <td>550</td>\n",
       "      <td>1.0</td>\n",
       "      <td>1.0</td>\n",
       "      <td>17.0</td>\n",
       "    </tr>\n",
       "  </tbody>\n",
       "</table>\n",
       "</div>"
      ],
      "text/plain": [
       "                  area_type   availability               location       size  \\\n",
       "13315        Built-up  Area  Ready To Move             Whitefield  5 Bedroom   \n",
       "13316  Super built-up  Area  Ready To Move          Richards Town      4 BHK   \n",
       "13317        Built-up  Area  Ready To Move  Raja Rajeshwari Nagar      2 BHK   \n",
       "13318  Super built-up  Area         18-Jun        Padmanabhanagar      4 BHK   \n",
       "13319  Super built-up  Area  Ready To Move           Doddathoguru      1 BHK   \n",
       "\n",
       "       society total_sqft  bath  balcony  price  \n",
       "13315  ArsiaEx       3453   4.0      0.0  231.0  \n",
       "13316      NaN       3600   5.0      NaN  400.0  \n",
       "13317  Mahla T       1141   2.0      1.0   60.0  \n",
       "13318  SollyCl       4689   4.0      1.0  488.0  \n",
       "13319      NaN        550   1.0      1.0   17.0  "
      ]
     },
     "execution_count": 64,
     "metadata": {},
     "output_type": "execute_result"
    }
   ],
   "source": [
    "df_raw.tail()"
   ]
  },
  {
   "cell_type": "markdown",
   "metadata": {
    "id": "phcXj_mudWaD"
   },
   "source": [
    "### Exploratory Data Analysis (EDA)"
   ]
  },
  {
   "cell_type": "code",
   "execution_count": 65,
   "metadata": {
    "id": "UZsRiyVVdVjY"
   },
   "outputs": [],
   "source": [
    "df = df_raw.copy() #Tạo bản sao để thực hiện EDA"
   ]
  },
  {
   "cell_type": "markdown",
   "metadata": {
    "id": "HX_oh2EkeMhD"
   },
   "source": [
    "1. Thông tin cơ bản về dữ liệu, tên trường, số giá trị non-null của từng trường, kiểu dữ liệu của từng trường"
   ]
  },
  {
   "cell_type": "code",
   "execution_count": 66,
   "metadata": {
    "colab": {
     "base_uri": "https://localhost:8080/"
    },
    "id": "r37N_FTKdO5o",
    "outputId": "d2e3453b-42fb-4476-b308-de4322902bbf"
   },
   "outputs": [
    {
     "name": "stdout",
     "output_type": "stream",
     "text": [
      "<class 'pandas.core.frame.DataFrame'>\n",
      "RangeIndex: 13320 entries, 0 to 13319\n",
      "Data columns (total 9 columns):\n",
      " #   Column        Non-Null Count  Dtype  \n",
      "---  ------        --------------  -----  \n",
      " 0   area_type     13320 non-null  object \n",
      " 1   availability  13320 non-null  object \n",
      " 2   location      13319 non-null  object \n",
      " 3   size          13304 non-null  object \n",
      " 4   society       7818 non-null   object \n",
      " 5   total_sqft    13320 non-null  object \n",
      " 6   bath          13247 non-null  float64\n",
      " 7   balcony       12711 non-null  float64\n",
      " 8   price         13320 non-null  float64\n",
      "dtypes: float64(3), object(6)\n",
      "memory usage: 936.7+ KB\n"
     ]
    }
   ],
   "source": [
    "df.info()"
   ]
  },
  {
   "cell_type": "markdown",
   "metadata": {
    "id": "1RCu8-CFeMhF"
   },
   "source": [
    "2. Thống kê 1 số thuộc tính cơ bản của dữ liệu, bao gồm count, mean, std, min, max, quartile"
   ]
  },
  {
   "cell_type": "code",
   "execution_count": 67,
   "metadata": {
    "colab": {
     "base_uri": "https://localhost:8080/",
     "height": 299
    },
    "id": "T6h2p8PsdrEa",
    "outputId": "e2c0e6e2-f729-4663-8701-19dcd464a461"
   },
   "outputs": [
    {
     "data": {
      "text/html": [
       "<div>\n",
       "<style scoped>\n",
       "    .dataframe tbody tr th:only-of-type {\n",
       "        vertical-align: middle;\n",
       "    }\n",
       "\n",
       "    .dataframe tbody tr th {\n",
       "        vertical-align: top;\n",
       "    }\n",
       "\n",
       "    .dataframe thead th {\n",
       "        text-align: right;\n",
       "    }\n",
       "</style>\n",
       "<table border=\"1\" class=\"dataframe\">\n",
       "  <thead>\n",
       "    <tr style=\"text-align: right;\">\n",
       "      <th></th>\n",
       "      <th>bath</th>\n",
       "      <th>balcony</th>\n",
       "      <th>price</th>\n",
       "    </tr>\n",
       "  </thead>\n",
       "  <tbody>\n",
       "    <tr>\n",
       "      <th>count</th>\n",
       "      <td>13247.000000</td>\n",
       "      <td>12711.000000</td>\n",
       "      <td>13320.000000</td>\n",
       "    </tr>\n",
       "    <tr>\n",
       "      <th>mean</th>\n",
       "      <td>2.692610</td>\n",
       "      <td>1.584376</td>\n",
       "      <td>112.565627</td>\n",
       "    </tr>\n",
       "    <tr>\n",
       "      <th>std</th>\n",
       "      <td>1.341458</td>\n",
       "      <td>0.817263</td>\n",
       "      <td>148.971674</td>\n",
       "    </tr>\n",
       "    <tr>\n",
       "      <th>min</th>\n",
       "      <td>1.000000</td>\n",
       "      <td>0.000000</td>\n",
       "      <td>8.000000</td>\n",
       "    </tr>\n",
       "    <tr>\n",
       "      <th>25%</th>\n",
       "      <td>2.000000</td>\n",
       "      <td>1.000000</td>\n",
       "      <td>50.000000</td>\n",
       "    </tr>\n",
       "    <tr>\n",
       "      <th>50%</th>\n",
       "      <td>2.000000</td>\n",
       "      <td>2.000000</td>\n",
       "      <td>72.000000</td>\n",
       "    </tr>\n",
       "    <tr>\n",
       "      <th>75%</th>\n",
       "      <td>3.000000</td>\n",
       "      <td>2.000000</td>\n",
       "      <td>120.000000</td>\n",
       "    </tr>\n",
       "    <tr>\n",
       "      <th>max</th>\n",
       "      <td>40.000000</td>\n",
       "      <td>3.000000</td>\n",
       "      <td>3600.000000</td>\n",
       "    </tr>\n",
       "  </tbody>\n",
       "</table>\n",
       "</div>"
      ],
      "text/plain": [
       "               bath       balcony         price\n",
       "count  13247.000000  12711.000000  13320.000000\n",
       "mean       2.692610      1.584376    112.565627\n",
       "std        1.341458      0.817263    148.971674\n",
       "min        1.000000      0.000000      8.000000\n",
       "25%        2.000000      1.000000     50.000000\n",
       "50%        2.000000      2.000000     72.000000\n",
       "75%        3.000000      2.000000    120.000000\n",
       "max       40.000000      3.000000   3600.000000"
      ]
     },
     "execution_count": 67,
     "metadata": {},
     "output_type": "execute_result"
    }
   ],
   "source": [
    "df.describe()"
   ]
  },
  {
   "cell_type": "markdown",
   "metadata": {
    "id": "CpaCNh31eMhK"
   },
   "source": [
    "3. Thống kê các giá trị duy nhất của từng trường và số lần xuất hiện của chúng"
   ]
  },
  {
   "cell_type": "code",
   "execution_count": 68,
   "metadata": {
    "colab": {
     "base_uri": "https://localhost:8080/"
    },
    "id": "FzagHR78eQOJ",
    "outputId": "bb672c7a-f398-4573-c585-7f4501ce0ff0"
   },
   "outputs": [
    {
     "name": "stdout",
     "output_type": "stream",
     "text": [
      "area_type\n",
      "Super built-up  Area    8790\n",
      "Built-up  Area          2418\n",
      "Plot  Area              2025\n",
      "Carpet  Area              87\n",
      "Name: count, dtype: int64\n",
      "--------------------------------\n",
      "availability\n",
      "Ready To Move    10581\n",
      "18-Dec             307\n",
      "18-May             295\n",
      "18-Apr             271\n",
      "18-Aug             200\n",
      "                 ...  \n",
      "15-Aug               1\n",
      "17-Jan               1\n",
      "16-Nov               1\n",
      "16-Jan               1\n",
      "14-Jul               1\n",
      "Name: count, Length: 81, dtype: int64\n",
      "--------------------------------\n",
      "location\n",
      "Whitefield                        540\n",
      "Sarjapur  Road                    399\n",
      "Electronic City                   302\n",
      "Kanakpura Road                    273\n",
      "Thanisandra                       234\n",
      "                                 ... \n",
      "Bapuji Layout                       1\n",
      "1st Stage Radha Krishna Layout      1\n",
      "BEML Layout 5th stage               1\n",
      "singapura paradise                  1\n",
      "Abshot Layout                       1\n",
      "Name: count, Length: 1305, dtype: int64\n",
      "--------------------------------\n",
      "size\n",
      "2 BHK         5199\n",
      "3 BHK         4310\n",
      "4 Bedroom      826\n",
      "4 BHK          591\n",
      "3 Bedroom      547\n",
      "1 BHK          538\n",
      "2 Bedroom      329\n",
      "5 Bedroom      297\n",
      "6 Bedroom      191\n",
      "1 Bedroom      105\n",
      "8 Bedroom       84\n",
      "7 Bedroom       83\n",
      "5 BHK           59\n",
      "9 Bedroom       46\n",
      "6 BHK           30\n",
      "7 BHK           17\n",
      "1 RK            13\n",
      "10 Bedroom      12\n",
      "9 BHK            8\n",
      "8 BHK            5\n",
      "11 BHK           2\n",
      "11 Bedroom       2\n",
      "10 BHK           2\n",
      "14 BHK           1\n",
      "13 BHK           1\n",
      "12 Bedroom       1\n",
      "27 BHK           1\n",
      "43 Bedroom       1\n",
      "16 BHK           1\n",
      "19 BHK           1\n",
      "18 Bedroom       1\n",
      "Name: count, dtype: int64\n",
      "--------------------------------\n",
      "society\n",
      "GrrvaGr    80\n",
      "PrarePa    76\n",
      "Sryalan    59\n",
      "Prtates    59\n",
      "GMown E    56\n",
      "           ..\n",
      "Amionce     1\n",
      "JaghtDe     1\n",
      "Jauraht     1\n",
      "Brity U     1\n",
      "RSntsAp     1\n",
      "Name: count, Length: 2688, dtype: int64\n",
      "--------------------------------\n",
      "total_sqft\n",
      "1200    843\n",
      "1100    221\n",
      "1500    205\n",
      "2400    196\n",
      "600     180\n",
      "       ... \n",
      "3580      1\n",
      "2461      1\n",
      "1437      1\n",
      "2155      1\n",
      "4689      1\n",
      "Name: count, Length: 2117, dtype: int64\n",
      "--------------------------------\n",
      "bath\n",
      "2.0     6908\n",
      "3.0     3286\n",
      "4.0     1226\n",
      "1.0      788\n",
      "5.0      524\n",
      "6.0      273\n",
      "7.0      102\n",
      "8.0       64\n",
      "9.0       43\n",
      "10.0      13\n",
      "12.0       7\n",
      "13.0       3\n",
      "11.0       3\n",
      "16.0       2\n",
      "27.0       1\n",
      "40.0       1\n",
      "15.0       1\n",
      "14.0       1\n",
      "18.0       1\n",
      "Name: count, dtype: int64\n",
      "--------------------------------\n",
      "balcony\n",
      "2.0    5113\n",
      "1.0    4897\n",
      "3.0    1672\n",
      "0.0    1029\n",
      "Name: count, dtype: int64\n",
      "--------------------------------\n",
      "price\n",
      "75.00     310\n",
      "65.00     302\n",
      "55.00     275\n",
      "60.00     270\n",
      "45.00     240\n",
      "         ... \n",
      "351.00      1\n",
      "54.10       1\n",
      "80.64       1\n",
      "32.73       1\n",
      "488.00      1\n",
      "Name: count, Length: 1994, dtype: int64\n",
      "--------------------------------\n"
     ]
    }
   ],
   "source": [
    "def value_count(df):\n",
    "  for var in df.columns:\n",
    "    print(df[var].value_counts())\n",
    "    print(\"--------------------------------\")\n",
    "\n",
    "value_count(df)"
   ]
  },
  {
   "cell_type": "markdown",
   "metadata": {
    "id": "k1XmRGm6-06j"
   },
   "source": [
    "4. Xem xét tương quan về giá trị của các cặp trường số"
   ]
  },
  {
   "cell_type": "code",
   "execution_count": 69,
   "metadata": {
    "colab": {
     "base_uri": "https://localhost:8080/",
     "height": 568
    },
    "id": "ZSPkjZdwdsrv",
    "outputId": "1bf102ae-f6d9-453f-d2e2-aafc5d822aa1"
   },
   "outputs": [
    {
     "data": {
      "text/plain": [
       "<seaborn.axisgrid.PairGrid at 0x2b9fef6c2f0>"
      ]
     },
     "execution_count": 69,
     "metadata": {},
     "output_type": "execute_result"
    },
    {
     "data": {
      "image/png": "[encoded data removed]",
      "text/plain": [
       "<Figure size 750x750 with 12 Axes>"
      ]
     },
     "metadata": {},
     "output_type": "display_data"
    }
   ],
   "source": [
    "sns.pairplot(df)"
   ]
  },
  {
   "cell_type": "code",
   "execution_count": 70,
   "metadata": {
    "colab": {
     "base_uri": "https://localhost:8080/",
     "height": 287
    },
    "id": "hR4eve8ye10G",
    "outputId": "90781fee-a6f8-4cc6-a5c8-9b7ff0795eb0"
   },
   "outputs": [
    {
     "data": {
      "text/plain": [
       "<Axes: >"
      ]
     },
     "execution_count": 70,
     "metadata": {},
     "output_type": "execute_result"
    },
    {
     "data": {
      "image/png": "[encoded data removed]",
      "text/plain": [
       "<Figure size 640x480 with 2 Axes>"
      ]
     },
     "metadata": {},
     "output_type": "display_data"
    }
   ],
   "source": [
    "num_vars = [\"bath\", \"balcony\", \"price\"]\n",
    "sns.heatmap(df[num_vars].corr(),cmap= None, annot=True)"
   ]
  },
  {
   "cell_type": "markdown",
   "metadata": {
    "id": "rBJn5yfZfap0"
   },
   "source": [
    "### Prepare Data for Machine Learning Model"
   ]
  },
  {
   "cell_type": "markdown",
   "metadata": {
    "id": "J_NF04EUfggt"
   },
   "source": [
    "#### Data cleaning"
   ]
  },
  {
   "cell_type": "markdown",
   "metadata": {
    "id": "N6cwp4CoeMhQ"
   },
   "source": [
    "1. Thống kê số lượng và tỉ lệ giá trị null của từng thuộc tính"
   ]
  },
  {
   "cell_type": "code",
   "execution_count": 71,
   "metadata": {
    "colab": {
     "base_uri": "https://localhost:8080/"
    },
    "id": "P8RwWrote8Qf",
    "outputId": "81cbaad5-300b-425e-bea3-bb04479c0c96"
   },
   "outputs": [
    {
     "data": {
      "text/plain": [
       "area_type          0\n",
       "availability       0\n",
       "location           1\n",
       "size              16\n",
       "society         5502\n",
       "total_sqft         0\n",
       "bath              73\n",
       "balcony          609\n",
       "price              0\n",
       "dtype: int64"
      ]
     },
     "execution_count": 71,
     "metadata": {},
     "output_type": "execute_result"
    }
   ],
   "source": [
    "df.isnull().sum() #So luong gia tri null cua tung thuoc tinh"
   ]
  },
  {
   "cell_type": "code",
   "execution_count": 72,
   "metadata": {
    "colab": {
     "base_uri": "https://localhost:8080/"
    },
    "id": "wdrarSAEfnNz",
    "outputId": "be20fe1a-ca35-4c9b-90eb-f1de4495c532"
   },
   "outputs": [
    {
     "data": {
      "text/plain": [
       "area_type       0.000000\n",
       "availability    0.000000\n",
       "location        0.000075\n",
       "size            0.001201\n",
       "society         0.413063\n",
       "total_sqft      0.000000\n",
       "bath            0.005480\n",
       "balcony         0.045721\n",
       "price           0.000000\n",
       "dtype: float64"
      ]
     },
     "execution_count": 72,
     "metadata": {},
     "output_type": "execute_result"
    }
   ],
   "source": [
    "df.isnull().mean() # Tỷ lệ giá trị null của từng thuộc tính"
   ]
  },
  {
   "cell_type": "markdown",
   "metadata": {
    "id": "ttrTU8D5eMhT"
   },
   "source": [
    "2. Loại đi trường society vì tỉ lệ null cao (41%)"
   ]
  },
  {
   "cell_type": "code",
   "execution_count": 73,
   "metadata": {
    "colab": {
     "base_uri": "https://localhost:8080/"
    },
    "id": "Azmc5V29f-w3",
    "outputId": "4b99f531-4a02-4d3b-8266-d58d57fef3d4"
   },
   "outputs": [
    {
     "data": {
      "text/html": [
       "<div>\n",
       "<style scoped>\n",
       "    .dataframe tbody tr th:only-of-type {\n",
       "        vertical-align: middle;\n",
       "    }\n",
       "\n",
       "    .dataframe tbody tr th {\n",
       "        vertical-align: top;\n",
       "    }\n",
       "\n",
       "    .dataframe thead th {\n",
       "        text-align: right;\n",
       "    }\n",
       "</style>\n",
       "<table border=\"1\" class=\"dataframe\">\n",
       "  <thead>\n",
       "    <tr style=\"text-align: right;\">\n",
       "      <th></th>\n",
       "      <th>area_type</th>\n",
       "      <th>availability</th>\n",
       "      <th>location</th>\n",
       "      <th>size</th>\n",
       "      <th>total_sqft</th>\n",
       "      <th>bath</th>\n",
       "      <th>balcony</th>\n",
       "      <th>price</th>\n",
       "    </tr>\n",
       "  </thead>\n",
       "  <tbody>\n",
       "    <tr>\n",
       "      <th>0</th>\n",
       "      <td>Super built-up  Area</td>\n",
       "      <td>19-Dec</td>\n",
       "      <td>Electronic City Phase II</td>\n",
       "      <td>2 BHK</td>\n",
       "      <td>1056</td>\n",
       "      <td>2.0</td>\n",
       "      <td>1.0</td>\n",
       "      <td>39.07</td>\n",
       "    </tr>\n",
       "    <tr>\n",
       "      <th>1</th>\n",
       "      <td>Plot  Area</td>\n",
       "      <td>Ready To Move</td>\n",
       "      <td>Chikka Tirupathi</td>\n",
       "      <td>4 Bedroom</td>\n",
       "      <td>2600</td>\n",
       "      <td>5.0</td>\n",
       "      <td>3.0</td>\n",
       "      <td>120.00</td>\n",
       "    </tr>\n",
       "    <tr>\n",
       "      <th>2</th>\n",
       "      <td>Built-up  Area</td>\n",
       "      <td>Ready To Move</td>\n",
       "      <td>Uttarahalli</td>\n",
       "      <td>3 BHK</td>\n",
       "      <td>1440</td>\n",
       "      <td>2.0</td>\n",
       "      <td>3.0</td>\n",
       "      <td>62.00</td>\n",
       "    </tr>\n",
       "    <tr>\n",
       "      <th>3</th>\n",
       "      <td>Super built-up  Area</td>\n",
       "      <td>Ready To Move</td>\n",
       "      <td>Lingadheeranahalli</td>\n",
       "      <td>3 BHK</td>\n",
       "      <td>1521</td>\n",
       "      <td>3.0</td>\n",
       "      <td>1.0</td>\n",
       "      <td>95.00</td>\n",
       "    </tr>\n",
       "    <tr>\n",
       "      <th>4</th>\n",
       "      <td>Super built-up  Area</td>\n",
       "      <td>Ready To Move</td>\n",
       "      <td>Kothanur</td>\n",
       "      <td>2 BHK</td>\n",
       "      <td>1200</td>\n",
       "      <td>2.0</td>\n",
       "      <td>1.0</td>\n",
       "      <td>51.00</td>\n",
       "    </tr>\n",
       "    <tr>\n",
       "      <th>...</th>\n",
       "      <td>...</td>\n",
       "      <td>...</td>\n",
       "      <td>...</td>\n",
       "      <td>...</td>\n",
       "      <td>...</td>\n",
       "      <td>...</td>\n",
       "      <td>...</td>\n",
       "      <td>...</td>\n",
       "    </tr>\n",
       "    <tr>\n",
       "      <th>13315</th>\n",
       "      <td>Built-up  Area</td>\n",
       "      <td>Ready To Move</td>\n",
       "      <td>Whitefield</td>\n",
       "      <td>5 Bedroom</td>\n",
       "      <td>3453</td>\n",
       "      <td>4.0</td>\n",
       "      <td>0.0</td>\n",
       "      <td>231.00</td>\n",
       "    </tr>\n",
       "    <tr>\n",
       "      <th>13316</th>\n",
       "      <td>Super built-up  Area</td>\n",
       "      <td>Ready To Move</td>\n",
       "      <td>Richards Town</td>\n",
       "      <td>4 BHK</td>\n",
       "      <td>3600</td>\n",
       "      <td>5.0</td>\n",
       "      <td>NaN</td>\n",
       "      <td>400.00</td>\n",
       "    </tr>\n",
       "    <tr>\n",
       "      <th>13317</th>\n",
       "      <td>Built-up  Area</td>\n",
       "      <td>Ready To Move</td>\n",
       "      <td>Raja Rajeshwari Nagar</td>\n",
       "      <td>2 BHK</td>\n",
       "      <td>1141</td>\n",
       "      <td>2.0</td>\n",
       "      <td>1.0</td>\n",
       "      <td>60.00</td>\n",
       "    </tr>\n",
       "    <tr>\n",
       "      <th>13318</th>\n",
       "      <td>Super built-up  Area</td>\n",
       "      <td>18-Jun</td>\n",
       "      <td>Padmanabhanagar</td>\n",
       "      <td>4 BHK</td>\n",
       "      <td>4689</td>\n",
       "      <td>4.0</td>\n",
       "      <td>1.0</td>\n",
       "      <td>488.00</td>\n",
       "    </tr>\n",
       "    <tr>\n",
       "      <th>13319</th>\n",
       "      <td>Super built-up  Area</td>\n",
       "      <td>Ready To Move</td>\n",
       "      <td>Doddathoguru</td>\n",
       "      <td>1 BHK</td>\n",
       "      <td>550</td>\n",
       "      <td>1.0</td>\n",
       "      <td>1.0</td>\n",
       "      <td>17.00</td>\n",
       "    </tr>\n",
       "  </tbody>\n",
       "</table>\n",
       "<p>13320 rows × 8 columns</p>\n",
       "</div>"
      ],
      "text/plain": [
       "                  area_type   availability                  location  \\\n",
       "0      Super built-up  Area         19-Dec  Electronic City Phase II   \n",
       "1                Plot  Area  Ready To Move          Chikka Tirupathi   \n",
       "2            Built-up  Area  Ready To Move               Uttarahalli   \n",
       "3      Super built-up  Area  Ready To Move        Lingadheeranahalli   \n",
       "4      Super built-up  Area  Ready To Move                  Kothanur   \n",
       "...                     ...            ...                       ...   \n",
       "13315        Built-up  Area  Ready To Move                Whitefield   \n",
       "13316  Super built-up  Area  Ready To Move             Richards Town   \n",
       "13317        Built-up  Area  Ready To Move     Raja Rajeshwari Nagar   \n",
       "13318  Super built-up  Area         18-Jun           Padmanabhanagar   \n",
       "13319  Super built-up  Area  Ready To Move              Doddathoguru   \n",
       "\n",
       "            size total_sqft  bath  balcony   price  \n",
       "0          2 BHK       1056   2.0      1.0   39.07  \n",
       "1      4 Bedroom       2600   5.0      3.0  120.00  \n",
       "2          3 BHK       1440   2.0      3.0   62.00  \n",
       "3          3 BHK       1521   3.0      1.0   95.00  \n",
       "4          2 BHK       1200   2.0      1.0   51.00  \n",
       "...          ...        ...   ...      ...     ...  \n",
       "13315  5 Bedroom       3453   4.0      0.0  231.00  \n",
       "13316      4 BHK       3600   5.0      NaN  400.00  \n",
       "13317      2 BHK       1141   2.0      1.0   60.00  \n",
       "13318      4 BHK       4689   4.0      1.0  488.00  \n",
       "13319      1 BHK        550   1.0      1.0   17.00  \n",
       "\n",
       "[13320 rows x 8 columns]"
      ]
     },
     "execution_count": 73,
     "metadata": {},
     "output_type": "execute_result"
    }
   ],
   "source": [
    "df_not_society = df.drop([\"society\"], axis = 1)\n",
    "df_not_society"
   ]
  },
  {
   "cell_type": "markdown",
   "metadata": {
    "id": "0ihcur-ZeMhV"
   },
   "source": [
    "3. Thay thế giá trị null trong trường balcony bằng giá trị trung bình của các giá trị not null"
   ]
  },
  {
   "cell_type": "code",
   "execution_count": 74,
   "metadata": {
    "colab": {
     "base_uri": "https://localhost:8080/"
    },
    "id": "nn9Sh3VugR9t",
    "outputId": "6175fb51-ef75-420f-8ce8-bc0ddb60f8f1"
   },
   "outputs": [
    {
     "data": {
      "text/plain": [
       "area_type        0\n",
       "availability     0\n",
       "location         1\n",
       "size            16\n",
       "total_sqft       0\n",
       "bath            73\n",
       "balcony          0\n",
       "price            0\n",
       "dtype: int64"
      ]
     },
     "execution_count": 74,
     "metadata": {},
     "output_type": "execute_result"
    }
   ],
   "source": [
    "df_not_society['balcony'] = df_not_society['balcony'].fillna(df_not_society['balcony'].mean())\n",
    "df_not_society.isnull().sum()"
   ]
  },
  {
   "cell_type": "markdown",
   "metadata": {
    "id": "VBSkeexNeMhV"
   },
   "source": [
    "4. Xóa đi các điểm dữ liệu (hàng) có giá trị nan (không có giá trị)"
   ]
  },
  {
   "cell_type": "code",
   "execution_count": 75,
   "metadata": {
    "colab": {
     "base_uri": "https://localhost:8080/"
    },
    "id": "Nk-GK233glrd",
    "outputId": "0a8b734f-4598-4db5-efdd-5ec807323c30"
   },
   "outputs": [
    {
     "data": {
      "text/plain": [
       "(13246, 8)"
      ]
     },
     "execution_count": 75,
     "metadata": {},
     "output_type": "execute_result"
    }
   ],
   "source": [
    "df3 = df_not_society.dropna()\n",
    "df3.shape"
   ]
  },
  {
   "cell_type": "code",
   "execution_count": 76,
   "metadata": {
    "colab": {
     "base_uri": "https://localhost:8080/"
    },
    "id": "Lc9HQAZGhZBt",
    "outputId": "ec7119ff-0b09-4bb5-b1f4-623d9ec7dba7"
   },
   "outputs": [
    {
     "data": {
      "text/plain": [
       "area_type       0\n",
       "availability    0\n",
       "location        0\n",
       "size            0\n",
       "total_sqft      0\n",
       "bath            0\n",
       "balcony         0\n",
       "price           0\n",
       "dtype: int64"
      ]
     },
     "execution_count": 76,
     "metadata": {},
     "output_type": "execute_result"
    }
   ],
   "source": [
    "df3.isnull().sum() #Thống kê lại xem đã xử lí hết các dữ liệu null hay chưa?"
   ]
  },
  {
   "cell_type": "markdown",
   "metadata": {
    "id": "WM_tZEv8hn0T"
   },
   "source": [
    "#### Feature Engineering"
   ]
  },
  {
   "cell_type": "code",
   "execution_count": 77,
   "metadata": {
    "id": "x9pqpwGohjnU"
   },
   "outputs": [],
   "source": [
    "#Cho phép in ra toàn bộ các giá trị output có thể của câu lệnh\n",
    "pd.set_option(\"display.max_columns\", None) \n",
    "pd.reset_option(\"display.max_rows\", None) #Data is large"
   ]
  },
  {
   "cell_type": "markdown",
   "metadata": {
    "id": "re24TUzKhziC"
   },
   "source": [
    "1. Converting 'total_sqft' cat feature in numeric"
   ]
  },
  {
   "cell_type": "code",
   "execution_count": 78,
   "metadata": {
    "colab": {
     "base_uri": "https://localhost:8080/"
    },
    "id": "OEP9sAsMhv7c",
    "outputId": "b4d8470c-1bc0-4075-b15b-7fecaa42123c"
   },
   "outputs": [
    {
     "data": {
      "text/plain": [
       "total_sqft\n",
       "1200    843\n",
       "1100    221\n",
       "1500    204\n",
       "2400    195\n",
       "600     180\n",
       "       ... \n",
       "5985      1\n",
       "3580      1\n",
       "2461      1\n",
       "1437      1\n",
       "4689      1\n",
       "Name: count, Length: 2067, dtype: int64"
      ]
     },
     "execution_count": 78,
     "metadata": {},
     "output_type": "execute_result"
    }
   ],
   "source": [
    "df3['total_sqft'].value_counts()"
   ]
  },
  {
   "cell_type": "markdown",
   "metadata": {
    "id": "Qcgt_I-peMhX"
   },
   "source": [
    "2. Chuyển trường total_sqft thành kiểu float"
   ]
  },
  {
   "cell_type": "code",
   "execution_count": 79,
   "metadata": {
    "id": "rxMYQnljjFk1"
   },
   "outputs": [],
   "source": [
    "total_sqft_float = []\n",
    "for str_val in df3['total_sqft']:\n",
    "  try:\n",
    "    total_sqft_float.append(float(str_val))\n",
    "  except:\n",
    "    try:\n",
    "      temp = []\n",
    "      temp = str_val.split('-')\n",
    "      total_sqft_float.append((float(temp[0])+float(temp[-1]))/2) \n",
    "    except:\n",
    "      total_sqft_float.append(np.nan)"
   ]
  },
  {
   "cell_type": "code",
   "execution_count": 80,
   "metadata": {
    "id": "cAR7V6RekTZ7"
   },
   "outputs": [
    {
     "data": {
      "text/html": [
       "<div>\n",
       "<style scoped>\n",
       "    .dataframe tbody tr th:only-of-type {\n",
       "        vertical-align: middle;\n",
       "    }\n",
       "\n",
       "    .dataframe tbody tr th {\n",
       "        vertical-align: top;\n",
       "    }\n",
       "\n",
       "    .dataframe thead th {\n",
       "        text-align: right;\n",
       "    }\n",
       "</style>\n",
       "<table border=\"1\" class=\"dataframe\">\n",
       "  <thead>\n",
       "    <tr style=\"text-align: right;\">\n",
       "      <th></th>\n",
       "      <th>area_type</th>\n",
       "      <th>availability</th>\n",
       "      <th>location</th>\n",
       "      <th>size</th>\n",
       "      <th>total_sqft</th>\n",
       "      <th>bath</th>\n",
       "      <th>balcony</th>\n",
       "      <th>price</th>\n",
       "    </tr>\n",
       "  </thead>\n",
       "  <tbody>\n",
       "    <tr>\n",
       "      <th>0</th>\n",
       "      <td>Super built-up  Area</td>\n",
       "      <td>19-Dec</td>\n",
       "      <td>Electronic City Phase II</td>\n",
       "      <td>2 BHK</td>\n",
       "      <td>1056</td>\n",
       "      <td>2.0</td>\n",
       "      <td>1.000000</td>\n",
       "      <td>39.07</td>\n",
       "    </tr>\n",
       "    <tr>\n",
       "      <th>1</th>\n",
       "      <td>Plot  Area</td>\n",
       "      <td>Ready To Move</td>\n",
       "      <td>Chikka Tirupathi</td>\n",
       "      <td>4 Bedroom</td>\n",
       "      <td>2600</td>\n",
       "      <td>5.0</td>\n",
       "      <td>3.000000</td>\n",
       "      <td>120.00</td>\n",
       "    </tr>\n",
       "    <tr>\n",
       "      <th>2</th>\n",
       "      <td>Built-up  Area</td>\n",
       "      <td>Ready To Move</td>\n",
       "      <td>Uttarahalli</td>\n",
       "      <td>3 BHK</td>\n",
       "      <td>1440</td>\n",
       "      <td>2.0</td>\n",
       "      <td>3.000000</td>\n",
       "      <td>62.00</td>\n",
       "    </tr>\n",
       "    <tr>\n",
       "      <th>3</th>\n",
       "      <td>Super built-up  Area</td>\n",
       "      <td>Ready To Move</td>\n",
       "      <td>Lingadheeranahalli</td>\n",
       "      <td>3 BHK</td>\n",
       "      <td>1521</td>\n",
       "      <td>3.0</td>\n",
       "      <td>1.000000</td>\n",
       "      <td>95.00</td>\n",
       "    </tr>\n",
       "    <tr>\n",
       "      <th>4</th>\n",
       "      <td>Super built-up  Area</td>\n",
       "      <td>Ready To Move</td>\n",
       "      <td>Kothanur</td>\n",
       "      <td>2 BHK</td>\n",
       "      <td>1200</td>\n",
       "      <td>2.0</td>\n",
       "      <td>1.000000</td>\n",
       "      <td>51.00</td>\n",
       "    </tr>\n",
       "    <tr>\n",
       "      <th>...</th>\n",
       "      <td>...</td>\n",
       "      <td>...</td>\n",
       "      <td>...</td>\n",
       "      <td>...</td>\n",
       "      <td>...</td>\n",
       "      <td>...</td>\n",
       "      <td>...</td>\n",
       "      <td>...</td>\n",
       "    </tr>\n",
       "    <tr>\n",
       "      <th>13241</th>\n",
       "      <td>Built-up  Area</td>\n",
       "      <td>Ready To Move</td>\n",
       "      <td>Whitefield</td>\n",
       "      <td>5 Bedroom</td>\n",
       "      <td>3453</td>\n",
       "      <td>4.0</td>\n",
       "      <td>0.000000</td>\n",
       "      <td>231.00</td>\n",
       "    </tr>\n",
       "    <tr>\n",
       "      <th>13242</th>\n",
       "      <td>Super built-up  Area</td>\n",
       "      <td>Ready To Move</td>\n",
       "      <td>Richards Town</td>\n",
       "      <td>4 BHK</td>\n",
       "      <td>3600</td>\n",
       "      <td>5.0</td>\n",
       "      <td>1.584376</td>\n",
       "      <td>400.00</td>\n",
       "    </tr>\n",
       "    <tr>\n",
       "      <th>13243</th>\n",
       "      <td>Built-up  Area</td>\n",
       "      <td>Ready To Move</td>\n",
       "      <td>Raja Rajeshwari Nagar</td>\n",
       "      <td>2 BHK</td>\n",
       "      <td>1141</td>\n",
       "      <td>2.0</td>\n",
       "      <td>1.000000</td>\n",
       "      <td>60.00</td>\n",
       "    </tr>\n",
       "    <tr>\n",
       "      <th>13244</th>\n",
       "      <td>Super built-up  Area</td>\n",
       "      <td>18-Jun</td>\n",
       "      <td>Padmanabhanagar</td>\n",
       "      <td>4 BHK</td>\n",
       "      <td>4689</td>\n",
       "      <td>4.0</td>\n",
       "      <td>1.000000</td>\n",
       "      <td>488.00</td>\n",
       "    </tr>\n",
       "    <tr>\n",
       "      <th>13245</th>\n",
       "      <td>Super built-up  Area</td>\n",
       "      <td>Ready To Move</td>\n",
       "      <td>Doddathoguru</td>\n",
       "      <td>1 BHK</td>\n",
       "      <td>550</td>\n",
       "      <td>1.0</td>\n",
       "      <td>1.000000</td>\n",
       "      <td>17.00</td>\n",
       "    </tr>\n",
       "  </tbody>\n",
       "</table>\n",
       "<p>13246 rows × 8 columns</p>\n",
       "</div>"
      ],
      "text/plain": [
       "                  area_type   availability                  location  \\\n",
       "0      Super built-up  Area         19-Dec  Electronic City Phase II   \n",
       "1                Plot  Area  Ready To Move          Chikka Tirupathi   \n",
       "2            Built-up  Area  Ready To Move               Uttarahalli   \n",
       "3      Super built-up  Area  Ready To Move        Lingadheeranahalli   \n",
       "4      Super built-up  Area  Ready To Move                  Kothanur   \n",
       "...                     ...            ...                       ...   \n",
       "13241        Built-up  Area  Ready To Move                Whitefield   \n",
       "13242  Super built-up  Area  Ready To Move             Richards Town   \n",
       "13243        Built-up  Area  Ready To Move     Raja Rajeshwari Nagar   \n",
       "13244  Super built-up  Area         18-Jun           Padmanabhanagar   \n",
       "13245  Super built-up  Area  Ready To Move              Doddathoguru   \n",
       "\n",
       "            size total_sqft  bath   balcony   price  \n",
       "0          2 BHK       1056   2.0  1.000000   39.07  \n",
       "1      4 Bedroom       2600   5.0  3.000000  120.00  \n",
       "2          3 BHK       1440   2.0  3.000000   62.00  \n",
       "3          3 BHK       1521   3.0  1.000000   95.00  \n",
       "4          2 BHK       1200   2.0  1.000000   51.00  \n",
       "...          ...        ...   ...       ...     ...  \n",
       "13241  5 Bedroom       3453   4.0  0.000000  231.00  \n",
       "13242      4 BHK       3600   5.0  1.584376  400.00  \n",
       "13243      2 BHK       1141   2.0  1.000000   60.00  \n",
       "13244      4 BHK       4689   4.0  1.000000  488.00  \n",
       "13245      1 BHK        550   1.0  1.000000   17.00  \n",
       "\n",
       "[13246 rows x 8 columns]"
      ]
     },
     "execution_count": 80,
     "metadata": {},
     "output_type": "execute_result"
    }
   ],
   "source": [
    "df4 = df3.reset_index(drop=True)\n",
    "df4"
   ]
  },
  {
   "cell_type": "markdown",
   "metadata": {
    "id": "AfdCmCvqeMhY"
   },
   "source": [
    "3. Thêm trường total_sqft kiểu float"
   ]
  },
  {
   "cell_type": "code",
   "execution_count": 81,
   "metadata": {
    "colab": {
     "base_uri": "https://localhost:8080/",
     "height": 292
    },
    "id": "lnRJIGOukeet",
    "outputId": "37426334-8e0c-4f50-d1b5-0da0063ea0e0"
   },
   "outputs": [
    {
     "data": {
      "text/html": [
       "<div>\n",
       "<style scoped>\n",
       "    .dataframe tbody tr th:only-of-type {\n",
       "        vertical-align: middle;\n",
       "    }\n",
       "\n",
       "    .dataframe tbody tr th {\n",
       "        vertical-align: top;\n",
       "    }\n",
       "\n",
       "    .dataframe thead th {\n",
       "        text-align: right;\n",
       "    }\n",
       "</style>\n",
       "<table border=\"1\" class=\"dataframe\">\n",
       "  <thead>\n",
       "    <tr style=\"text-align: right;\">\n",
       "      <th></th>\n",
       "      <th>area_type</th>\n",
       "      <th>availability</th>\n",
       "      <th>location</th>\n",
       "      <th>size</th>\n",
       "      <th>total_sqft</th>\n",
       "      <th>bath</th>\n",
       "      <th>balcony</th>\n",
       "      <th>price</th>\n",
       "      <th>total_sqft_float</th>\n",
       "    </tr>\n",
       "  </thead>\n",
       "  <tbody>\n",
       "    <tr>\n",
       "      <th>0</th>\n",
       "      <td>Super built-up  Area</td>\n",
       "      <td>19-Dec</td>\n",
       "      <td>Electronic City Phase II</td>\n",
       "      <td>2 BHK</td>\n",
       "      <td>1056</td>\n",
       "      <td>2.0</td>\n",
       "      <td>1.000000</td>\n",
       "      <td>39.07</td>\n",
       "      <td>1056.0</td>\n",
       "    </tr>\n",
       "    <tr>\n",
       "      <th>1</th>\n",
       "      <td>Plot  Area</td>\n",
       "      <td>Ready To Move</td>\n",
       "      <td>Chikka Tirupathi</td>\n",
       "      <td>4 Bedroom</td>\n",
       "      <td>2600</td>\n",
       "      <td>5.0</td>\n",
       "      <td>3.000000</td>\n",
       "      <td>120.00</td>\n",
       "      <td>2600.0</td>\n",
       "    </tr>\n",
       "    <tr>\n",
       "      <th>2</th>\n",
       "      <td>Built-up  Area</td>\n",
       "      <td>Ready To Move</td>\n",
       "      <td>Uttarahalli</td>\n",
       "      <td>3 BHK</td>\n",
       "      <td>1440</td>\n",
       "      <td>2.0</td>\n",
       "      <td>3.000000</td>\n",
       "      <td>62.00</td>\n",
       "      <td>1440.0</td>\n",
       "    </tr>\n",
       "    <tr>\n",
       "      <th>3</th>\n",
       "      <td>Super built-up  Area</td>\n",
       "      <td>Ready To Move</td>\n",
       "      <td>Lingadheeranahalli</td>\n",
       "      <td>3 BHK</td>\n",
       "      <td>1521</td>\n",
       "      <td>3.0</td>\n",
       "      <td>1.000000</td>\n",
       "      <td>95.00</td>\n",
       "      <td>1521.0</td>\n",
       "    </tr>\n",
       "    <tr>\n",
       "      <th>4</th>\n",
       "      <td>Super built-up  Area</td>\n",
       "      <td>Ready To Move</td>\n",
       "      <td>Kothanur</td>\n",
       "      <td>2 BHK</td>\n",
       "      <td>1200</td>\n",
       "      <td>2.0</td>\n",
       "      <td>1.000000</td>\n",
       "      <td>51.00</td>\n",
       "      <td>1200.0</td>\n",
       "    </tr>\n",
       "    <tr>\n",
       "      <th>...</th>\n",
       "      <td>...</td>\n",
       "      <td>...</td>\n",
       "      <td>...</td>\n",
       "      <td>...</td>\n",
       "      <td>...</td>\n",
       "      <td>...</td>\n",
       "      <td>...</td>\n",
       "      <td>...</td>\n",
       "      <td>...</td>\n",
       "    </tr>\n",
       "    <tr>\n",
       "      <th>13241</th>\n",
       "      <td>Built-up  Area</td>\n",
       "      <td>Ready To Move</td>\n",
       "      <td>Whitefield</td>\n",
       "      <td>5 Bedroom</td>\n",
       "      <td>3453</td>\n",
       "      <td>4.0</td>\n",
       "      <td>0.000000</td>\n",
       "      <td>231.00</td>\n",
       "      <td>3453.0</td>\n",
       "    </tr>\n",
       "    <tr>\n",
       "      <th>13242</th>\n",
       "      <td>Super built-up  Area</td>\n",
       "      <td>Ready To Move</td>\n",
       "      <td>Richards Town</td>\n",
       "      <td>4 BHK</td>\n",
       "      <td>3600</td>\n",
       "      <td>5.0</td>\n",
       "      <td>1.584376</td>\n",
       "      <td>400.00</td>\n",
       "      <td>3600.0</td>\n",
       "    </tr>\n",
       "    <tr>\n",
       "      <th>13243</th>\n",
       "      <td>Built-up  Area</td>\n",
       "      <td>Ready To Move</td>\n",
       "      <td>Raja Rajeshwari Nagar</td>\n",
       "      <td>2 BHK</td>\n",
       "      <td>1141</td>\n",
       "      <td>2.0</td>\n",
       "      <td>1.000000</td>\n",
       "      <td>60.00</td>\n",
       "      <td>1141.0</td>\n",
       "    </tr>\n",
       "    <tr>\n",
       "      <th>13244</th>\n",
       "      <td>Super built-up  Area</td>\n",
       "      <td>18-Jun</td>\n",
       "      <td>Padmanabhanagar</td>\n",
       "      <td>4 BHK</td>\n",
       "      <td>4689</td>\n",
       "      <td>4.0</td>\n",
       "      <td>1.000000</td>\n",
       "      <td>488.00</td>\n",
       "      <td>4689.0</td>\n",
       "    </tr>\n",
       "    <tr>\n",
       "      <th>13245</th>\n",
       "      <td>Super built-up  Area</td>\n",
       "      <td>Ready To Move</td>\n",
       "      <td>Doddathoguru</td>\n",
       "      <td>1 BHK</td>\n",
       "      <td>550</td>\n",
       "      <td>1.0</td>\n",
       "      <td>1.000000</td>\n",
       "      <td>17.00</td>\n",
       "      <td>550.0</td>\n",
       "    </tr>\n",
       "  </tbody>\n",
       "</table>\n",
       "<p>13246 rows × 9 columns</p>\n",
       "</div>"
      ],
      "text/plain": [
       "                  area_type   availability                  location  \\\n",
       "0      Super built-up  Area         19-Dec  Electronic City Phase II   \n",
       "1                Plot  Area  Ready To Move          Chikka Tirupathi   \n",
       "2            Built-up  Area  Ready To Move               Uttarahalli   \n",
       "3      Super built-up  Area  Ready To Move        Lingadheeranahalli   \n",
       "4      Super built-up  Area  Ready To Move                  Kothanur   \n",
       "...                     ...            ...                       ...   \n",
       "13241        Built-up  Area  Ready To Move                Whitefield   \n",
       "13242  Super built-up  Area  Ready To Move             Richards Town   \n",
       "13243        Built-up  Area  Ready To Move     Raja Rajeshwari Nagar   \n",
       "13244  Super built-up  Area         18-Jun           Padmanabhanagar   \n",
       "13245  Super built-up  Area  Ready To Move              Doddathoguru   \n",
       "\n",
       "            size total_sqft  bath   balcony   price  total_sqft_float  \n",
       "0          2 BHK       1056   2.0  1.000000   39.07            1056.0  \n",
       "1      4 Bedroom       2600   5.0  3.000000  120.00            2600.0  \n",
       "2          3 BHK       1440   2.0  3.000000   62.00            1440.0  \n",
       "3          3 BHK       1521   3.0  1.000000   95.00            1521.0  \n",
       "4          2 BHK       1200   2.0  1.000000   51.00            1200.0  \n",
       "...          ...        ...   ...       ...     ...               ...  \n",
       "13241  5 Bedroom       3453   4.0  0.000000  231.00            3453.0  \n",
       "13242      4 BHK       3600   5.0  1.584376  400.00            3600.0  \n",
       "13243      2 BHK       1141   2.0  1.000000   60.00            1141.0  \n",
       "13244      4 BHK       4689   4.0  1.000000  488.00            4689.0  \n",
       "13245      1 BHK        550   1.0  1.000000   17.00             550.0  \n",
       "\n",
       "[13246 rows x 9 columns]"
      ]
     },
     "execution_count": 81,
     "metadata": {},
     "output_type": "execute_result"
    }
   ],
   "source": [
    "total_sqft_float_df = pd.DataFrame(total_sqft_float, columns= ['total_sqft_float'])\n",
    "df5 = pd.concat([df4, total_sqft_float_df], axis = 1)\n",
    "df5"
   ]
  },
  {
   "cell_type": "markdown",
   "metadata": {
    "id": "0dVGYOQfeMhZ"
   },
   "source": [
    "6. Thông tin về số điểm dữ liệu null của từng trường"
   ]
  },
  {
   "cell_type": "code",
   "execution_count": 82,
   "metadata": {
    "colab": {
     "base_uri": "https://localhost:8080/"
    },
    "id": "YiS81zx5k--n",
    "outputId": "01cc5d35-c5f5-4e2e-9ba1-f725ba35de31"
   },
   "outputs": [
    {
     "data": {
      "text/plain": [
       "area_type            0\n",
       "availability         0\n",
       "location             0\n",
       "size                 0\n",
       "total_sqft           0\n",
       "bath                 0\n",
       "balcony              0\n",
       "price                0\n",
       "total_sqft_float    46\n",
       "dtype: int64"
      ]
     },
     "execution_count": 82,
     "metadata": {},
     "output_type": "execute_result"
    }
   ],
   "source": [
    "df5.isnull().sum()"
   ]
  },
  {
   "cell_type": "markdown",
   "metadata": {
    "id": "GRhuPohueMhZ"
   },
   "source": [
    "7. Bỏ đi các điểm dữ liệu (hàng) có giá trị null"
   ]
  },
  {
   "cell_type": "code",
   "execution_count": 83,
   "metadata": {
    "colab": {
     "base_uri": "https://localhost:8080/"
    },
    "id": "Xregleu_lGoj",
    "outputId": "e0f0f4f9-4c63-4335-a9a1-6548a22adc2c"
   },
   "outputs": [
    {
     "data": {
      "text/plain": [
       "(13200, 9)"
      ]
     },
     "execution_count": 83,
     "metadata": {},
     "output_type": "execute_result"
    }
   ],
   "source": [
    "df6 = df5.dropna()\n",
    "df6.shape"
   ]
  },
  {
   "cell_type": "markdown",
   "metadata": {
    "id": "iZYq16CHeMha"
   },
   "source": [
    "8. Xem lại thông tin của dataframe "
   ]
  },
  {
   "cell_type": "code",
   "execution_count": 84,
   "metadata": {
    "colab": {
     "base_uri": "https://localhost:8080/"
    },
    "id": "tchjeGPmlPiS",
    "outputId": "572c8d3b-8a5b-4713-c34f-874fe69f3d5d"
   },
   "outputs": [
    {
     "name": "stdout",
     "output_type": "stream",
     "text": [
      "<class 'pandas.core.frame.DataFrame'>\n",
      "Index: 13200 entries, 0 to 13245\n",
      "Data columns (total 9 columns):\n",
      " #   Column            Non-Null Count  Dtype  \n",
      "---  ------            --------------  -----  \n",
      " 0   area_type         13200 non-null  object \n",
      " 1   availability      13200 non-null  object \n",
      " 2   location          13200 non-null  object \n",
      " 3   size              13200 non-null  object \n",
      " 4   total_sqft        13200 non-null  object \n",
      " 5   bath              13200 non-null  float64\n",
      " 6   balcony           13200 non-null  float64\n",
      " 7   price             13200 non-null  float64\n",
      " 8   total_sqft_float  13200 non-null  float64\n",
      "dtypes: float64(4), object(5)\n",
      "memory usage: 1.0+ MB\n"
     ]
    }
   ],
   "source": [
    "df6.info()"
   ]
  },
  {
   "cell_type": "markdown",
   "metadata": {
    "id": "0mX13Sa0lpdG"
   },
   "source": [
    "9. Làm việc với feature: *size*"
   ]
  },
  {
   "cell_type": "code",
   "execution_count": 85,
   "metadata": {
    "colab": {
     "base_uri": "https://localhost:8080/"
    },
    "id": "U5xvFlo_ld8s",
    "outputId": "9b13c41a-4be8-4d1d-81d0-58de5a4efbba"
   },
   "outputs": [
    {
     "data": {
      "text/plain": [
       "size\n",
       "2 BHK         5192\n",
       "3 BHK         4277\n",
       "4 Bedroom      816\n",
       "4 BHK          574\n",
       "3 Bedroom      541\n",
       "1 BHK          527\n",
       "2 Bedroom      325\n",
       "5 Bedroom      293\n",
       "6 Bedroom      190\n",
       "1 Bedroom      100\n",
       "7 Bedroom       83\n",
       "8 Bedroom       83\n",
       "5 BHK           56\n",
       "9 Bedroom       45\n",
       "6 BHK           30\n",
       "7 BHK           17\n",
       "1 RK            13\n",
       "10 Bedroom      12\n",
       "9 BHK            7\n",
       "8 BHK            5\n",
       "11 BHK           2\n",
       "11 Bedroom       2\n",
       "10 BHK           2\n",
       "14 BHK           1\n",
       "13 BHK           1\n",
       "12 Bedroom       1\n",
       "27 BHK           1\n",
       "43 Bedroom       1\n",
       "16 BHK           1\n",
       "19 BHK           1\n",
       "18 Bedroom       1\n",
       "Name: count, dtype: int64"
      ]
     },
     "execution_count": 85,
     "metadata": {},
     "output_type": "execute_result"
    }
   ],
   "source": [
    "# Quan sát sự phân bố giá trị của trường 'size' với value_counts\n",
    "df6['size'].value_counts()"
   ]
  },
  {
   "cell_type": "code",
   "execution_count": 86,
   "metadata": {
    "id": "KkTvN3jVlv7p"
   },
   "outputs": [],
   "source": [
    "#Chuyển thuộc tính số phòng từ dạng category về dạng numeric\n",
    "size_int = []\n",
    "for str_val in df6['size']:\n",
    "  temp=[]\n",
    "  temp = str_val.split(\" \")\n",
    "  try:\n",
    "    size_int.append(int(temp[0]))\n",
    "  except:\n",
    "    size_int.append(np.nan)\n",
    "    print(\"Noice = \",str_val)"
   ]
  },
  {
   "cell_type": "code",
   "execution_count": 87,
   "metadata": {},
   "outputs": [
    {
     "data": {
      "text/html": [
       "<div>\n",
       "<style scoped>\n",
       "    .dataframe tbody tr th:only-of-type {\n",
       "        vertical-align: middle;\n",
       "    }\n",
       "\n",
       "    .dataframe tbody tr th {\n",
       "        vertical-align: top;\n",
       "    }\n",
       "\n",
       "    .dataframe thead th {\n",
       "        text-align: right;\n",
       "    }\n",
       "</style>\n",
       "<table border=\"1\" class=\"dataframe\">\n",
       "  <thead>\n",
       "    <tr style=\"text-align: right;\">\n",
       "      <th></th>\n",
       "      <th>area_type</th>\n",
       "      <th>availability</th>\n",
       "      <th>location</th>\n",
       "      <th>size</th>\n",
       "      <th>total_sqft</th>\n",
       "      <th>bath</th>\n",
       "      <th>balcony</th>\n",
       "      <th>price</th>\n",
       "      <th>total_sqft_float</th>\n",
       "    </tr>\n",
       "  </thead>\n",
       "  <tbody>\n",
       "    <tr>\n",
       "      <th>0</th>\n",
       "      <td>Super built-up  Area</td>\n",
       "      <td>19-Dec</td>\n",
       "      <td>Electronic City Phase II</td>\n",
       "      <td>2 BHK</td>\n",
       "      <td>1056</td>\n",
       "      <td>2.0</td>\n",
       "      <td>1.000000</td>\n",
       "      <td>39.07</td>\n",
       "      <td>1056.0</td>\n",
       "    </tr>\n",
       "    <tr>\n",
       "      <th>1</th>\n",
       "      <td>Plot  Area</td>\n",
       "      <td>Ready To Move</td>\n",
       "      <td>Chikka Tirupathi</td>\n",
       "      <td>4 Bedroom</td>\n",
       "      <td>2600</td>\n",
       "      <td>5.0</td>\n",
       "      <td>3.000000</td>\n",
       "      <td>120.00</td>\n",
       "      <td>2600.0</td>\n",
       "    </tr>\n",
       "    <tr>\n",
       "      <th>2</th>\n",
       "      <td>Built-up  Area</td>\n",
       "      <td>Ready To Move</td>\n",
       "      <td>Uttarahalli</td>\n",
       "      <td>3 BHK</td>\n",
       "      <td>1440</td>\n",
       "      <td>2.0</td>\n",
       "      <td>3.000000</td>\n",
       "      <td>62.00</td>\n",
       "      <td>1440.0</td>\n",
       "    </tr>\n",
       "    <tr>\n",
       "      <th>3</th>\n",
       "      <td>Super built-up  Area</td>\n",
       "      <td>Ready To Move</td>\n",
       "      <td>Lingadheeranahalli</td>\n",
       "      <td>3 BHK</td>\n",
       "      <td>1521</td>\n",
       "      <td>3.0</td>\n",
       "      <td>1.000000</td>\n",
       "      <td>95.00</td>\n",
       "      <td>1521.0</td>\n",
       "    </tr>\n",
       "    <tr>\n",
       "      <th>4</th>\n",
       "      <td>Super built-up  Area</td>\n",
       "      <td>Ready To Move</td>\n",
       "      <td>Kothanur</td>\n",
       "      <td>2 BHK</td>\n",
       "      <td>1200</td>\n",
       "      <td>2.0</td>\n",
       "      <td>1.000000</td>\n",
       "      <td>51.00</td>\n",
       "      <td>1200.0</td>\n",
       "    </tr>\n",
       "    <tr>\n",
       "      <th>...</th>\n",
       "      <td>...</td>\n",
       "      <td>...</td>\n",
       "      <td>...</td>\n",
       "      <td>...</td>\n",
       "      <td>...</td>\n",
       "      <td>...</td>\n",
       "      <td>...</td>\n",
       "      <td>...</td>\n",
       "      <td>...</td>\n",
       "    </tr>\n",
       "    <tr>\n",
       "      <th>13241</th>\n",
       "      <td>Built-up  Area</td>\n",
       "      <td>Ready To Move</td>\n",
       "      <td>Whitefield</td>\n",
       "      <td>5 Bedroom</td>\n",
       "      <td>3453</td>\n",
       "      <td>4.0</td>\n",
       "      <td>0.000000</td>\n",
       "      <td>231.00</td>\n",
       "      <td>3453.0</td>\n",
       "    </tr>\n",
       "    <tr>\n",
       "      <th>13242</th>\n",
       "      <td>Super built-up  Area</td>\n",
       "      <td>Ready To Move</td>\n",
       "      <td>Richards Town</td>\n",
       "      <td>4 BHK</td>\n",
       "      <td>3600</td>\n",
       "      <td>5.0</td>\n",
       "      <td>1.584376</td>\n",
       "      <td>400.00</td>\n",
       "      <td>3600.0</td>\n",
       "    </tr>\n",
       "    <tr>\n",
       "      <th>13243</th>\n",
       "      <td>Built-up  Area</td>\n",
       "      <td>Ready To Move</td>\n",
       "      <td>Raja Rajeshwari Nagar</td>\n",
       "      <td>2 BHK</td>\n",
       "      <td>1141</td>\n",
       "      <td>2.0</td>\n",
       "      <td>1.000000</td>\n",
       "      <td>60.00</td>\n",
       "      <td>1141.0</td>\n",
       "    </tr>\n",
       "    <tr>\n",
       "      <th>13244</th>\n",
       "      <td>Super built-up  Area</td>\n",
       "      <td>18-Jun</td>\n",
       "      <td>Padmanabhanagar</td>\n",
       "      <td>4 BHK</td>\n",
       "      <td>4689</td>\n",
       "      <td>4.0</td>\n",
       "      <td>1.000000</td>\n",
       "      <td>488.00</td>\n",
       "      <td>4689.0</td>\n",
       "    </tr>\n",
       "    <tr>\n",
       "      <th>13245</th>\n",
       "      <td>Super built-up  Area</td>\n",
       "      <td>Ready To Move</td>\n",
       "      <td>Doddathoguru</td>\n",
       "      <td>1 BHK</td>\n",
       "      <td>550</td>\n",
       "      <td>1.0</td>\n",
       "      <td>1.000000</td>\n",
       "      <td>17.00</td>\n",
       "      <td>550.0</td>\n",
       "    </tr>\n",
       "  </tbody>\n",
       "</table>\n",
       "<p>13200 rows × 9 columns</p>\n",
       "</div>"
      ],
      "text/plain": [
       "                  area_type   availability                  location  \\\n",
       "0      Super built-up  Area         19-Dec  Electronic City Phase II   \n",
       "1                Plot  Area  Ready To Move          Chikka Tirupathi   \n",
       "2            Built-up  Area  Ready To Move               Uttarahalli   \n",
       "3      Super built-up  Area  Ready To Move        Lingadheeranahalli   \n",
       "4      Super built-up  Area  Ready To Move                  Kothanur   \n",
       "...                     ...            ...                       ...   \n",
       "13241        Built-up  Area  Ready To Move                Whitefield   \n",
       "13242  Super built-up  Area  Ready To Move             Richards Town   \n",
       "13243        Built-up  Area  Ready To Move     Raja Rajeshwari Nagar   \n",
       "13244  Super built-up  Area         18-Jun           Padmanabhanagar   \n",
       "13245  Super built-up  Area  Ready To Move              Doddathoguru   \n",
       "\n",
       "            size total_sqft  bath   balcony   price  total_sqft_float  \n",
       "0          2 BHK       1056   2.0  1.000000   39.07            1056.0  \n",
       "1      4 Bedroom       2600   5.0  3.000000  120.00            2600.0  \n",
       "2          3 BHK       1440   2.0  3.000000   62.00            1440.0  \n",
       "3          3 BHK       1521   3.0  1.000000   95.00            1521.0  \n",
       "4          2 BHK       1200   2.0  1.000000   51.00            1200.0  \n",
       "...          ...        ...   ...       ...     ...               ...  \n",
       "13241  5 Bedroom       3453   4.0  0.000000  231.00            3453.0  \n",
       "13242      4 BHK       3600   5.0  1.584376  400.00            3600.0  \n",
       "13243      2 BHK       1141   2.0  1.000000   60.00            1141.0  \n",
       "13244      4 BHK       4689   4.0  1.000000  488.00            4689.0  \n",
       "13245      1 BHK        550   1.0  1.000000   17.00             550.0  \n",
       "\n",
       "[13200 rows x 9 columns]"
      ]
     },
     "execution_count": 87,
     "metadata": {},
     "output_type": "execute_result"
    }
   ],
   "source": [
    "df6"
   ]
  },
  {
   "cell_type": "code",
   "execution_count": 88,
   "metadata": {
    "id": "AsPiyp8HmUhA"
   },
   "outputs": [
    {
     "data": {
      "text/html": [
       "<div>\n",
       "<style scoped>\n",
       "    .dataframe tbody tr th:only-of-type {\n",
       "        vertical-align: middle;\n",
       "    }\n",
       "\n",
       "    .dataframe tbody tr th {\n",
       "        vertical-align: top;\n",
       "    }\n",
       "\n",
       "    .dataframe thead th {\n",
       "        text-align: right;\n",
       "    }\n",
       "</style>\n",
       "<table border=\"1\" class=\"dataframe\">\n",
       "  <thead>\n",
       "    <tr style=\"text-align: right;\">\n",
       "      <th></th>\n",
       "      <th>area_type</th>\n",
       "      <th>availability</th>\n",
       "      <th>location</th>\n",
       "      <th>size</th>\n",
       "      <th>total_sqft</th>\n",
       "      <th>bath</th>\n",
       "      <th>balcony</th>\n",
       "      <th>price</th>\n",
       "      <th>total_sqft_float</th>\n",
       "    </tr>\n",
       "  </thead>\n",
       "  <tbody>\n",
       "    <tr>\n",
       "      <th>0</th>\n",
       "      <td>Super built-up  Area</td>\n",
       "      <td>19-Dec</td>\n",
       "      <td>Electronic City Phase II</td>\n",
       "      <td>2 BHK</td>\n",
       "      <td>1056</td>\n",
       "      <td>2.0</td>\n",
       "      <td>1.000000</td>\n",
       "      <td>39.07</td>\n",
       "      <td>1056.0</td>\n",
       "    </tr>\n",
       "    <tr>\n",
       "      <th>1</th>\n",
       "      <td>Plot  Area</td>\n",
       "      <td>Ready To Move</td>\n",
       "      <td>Chikka Tirupathi</td>\n",
       "      <td>4 Bedroom</td>\n",
       "      <td>2600</td>\n",
       "      <td>5.0</td>\n",
       "      <td>3.000000</td>\n",
       "      <td>120.00</td>\n",
       "      <td>2600.0</td>\n",
       "    </tr>\n",
       "    <tr>\n",
       "      <th>2</th>\n",
       "      <td>Built-up  Area</td>\n",
       "      <td>Ready To Move</td>\n",
       "      <td>Uttarahalli</td>\n",
       "      <td>3 BHK</td>\n",
       "      <td>1440</td>\n",
       "      <td>2.0</td>\n",
       "      <td>3.000000</td>\n",
       "      <td>62.00</td>\n",
       "      <td>1440.0</td>\n",
       "    </tr>\n",
       "    <tr>\n",
       "      <th>3</th>\n",
       "      <td>Super built-up  Area</td>\n",
       "      <td>Ready To Move</td>\n",
       "      <td>Lingadheeranahalli</td>\n",
       "      <td>3 BHK</td>\n",
       "      <td>1521</td>\n",
       "      <td>3.0</td>\n",
       "      <td>1.000000</td>\n",
       "      <td>95.00</td>\n",
       "      <td>1521.0</td>\n",
       "    </tr>\n",
       "    <tr>\n",
       "      <th>4</th>\n",
       "      <td>Super built-up  Area</td>\n",
       "      <td>Ready To Move</td>\n",
       "      <td>Kothanur</td>\n",
       "      <td>2 BHK</td>\n",
       "      <td>1200</td>\n",
       "      <td>2.0</td>\n",
       "      <td>1.000000</td>\n",
       "      <td>51.00</td>\n",
       "      <td>1200.0</td>\n",
       "    </tr>\n",
       "    <tr>\n",
       "      <th>...</th>\n",
       "      <td>...</td>\n",
       "      <td>...</td>\n",
       "      <td>...</td>\n",
       "      <td>...</td>\n",
       "      <td>...</td>\n",
       "      <td>...</td>\n",
       "      <td>...</td>\n",
       "      <td>...</td>\n",
       "      <td>...</td>\n",
       "    </tr>\n",
       "    <tr>\n",
       "      <th>13195</th>\n",
       "      <td>Built-up  Area</td>\n",
       "      <td>Ready To Move</td>\n",
       "      <td>Whitefield</td>\n",
       "      <td>5 Bedroom</td>\n",
       "      <td>3453</td>\n",
       "      <td>4.0</td>\n",
       "      <td>0.000000</td>\n",
       "      <td>231.00</td>\n",
       "      <td>3453.0</td>\n",
       "    </tr>\n",
       "    <tr>\n",
       "      <th>13196</th>\n",
       "      <td>Super built-up  Area</td>\n",
       "      <td>Ready To Move</td>\n",
       "      <td>Richards Town</td>\n",
       "      <td>4 BHK</td>\n",
       "      <td>3600</td>\n",
       "      <td>5.0</td>\n",
       "      <td>1.584376</td>\n",
       "      <td>400.00</td>\n",
       "      <td>3600.0</td>\n",
       "    </tr>\n",
       "    <tr>\n",
       "      <th>13197</th>\n",
       "      <td>Built-up  Area</td>\n",
       "      <td>Ready To Move</td>\n",
       "      <td>Raja Rajeshwari Nagar</td>\n",
       "      <td>2 BHK</td>\n",
       "      <td>1141</td>\n",
       "      <td>2.0</td>\n",
       "      <td>1.000000</td>\n",
       "      <td>60.00</td>\n",
       "      <td>1141.0</td>\n",
       "    </tr>\n",
       "    <tr>\n",
       "      <th>13198</th>\n",
       "      <td>Super built-up  Area</td>\n",
       "      <td>18-Jun</td>\n",
       "      <td>Padmanabhanagar</td>\n",
       "      <td>4 BHK</td>\n",
       "      <td>4689</td>\n",
       "      <td>4.0</td>\n",
       "      <td>1.000000</td>\n",
       "      <td>488.00</td>\n",
       "      <td>4689.0</td>\n",
       "    </tr>\n",
       "    <tr>\n",
       "      <th>13199</th>\n",
       "      <td>Super built-up  Area</td>\n",
       "      <td>Ready To Move</td>\n",
       "      <td>Doddathoguru</td>\n",
       "      <td>1 BHK</td>\n",
       "      <td>550</td>\n",
       "      <td>1.0</td>\n",
       "      <td>1.000000</td>\n",
       "      <td>17.00</td>\n",
       "      <td>550.0</td>\n",
       "    </tr>\n",
       "  </tbody>\n",
       "</table>\n",
       "<p>13200 rows × 9 columns</p>\n",
       "</div>"
      ],
      "text/plain": [
       "                  area_type   availability                  location  \\\n",
       "0      Super built-up  Area         19-Dec  Electronic City Phase II   \n",
       "1                Plot  Area  Ready To Move          Chikka Tirupathi   \n",
       "2            Built-up  Area  Ready To Move               Uttarahalli   \n",
       "3      Super built-up  Area  Ready To Move        Lingadheeranahalli   \n",
       "4      Super built-up  Area  Ready To Move                  Kothanur   \n",
       "...                     ...            ...                       ...   \n",
       "13195        Built-up  Area  Ready To Move                Whitefield   \n",
       "13196  Super built-up  Area  Ready To Move             Richards Town   \n",
       "13197        Built-up  Area  Ready To Move     Raja Rajeshwari Nagar   \n",
       "13198  Super built-up  Area         18-Jun           Padmanabhanagar   \n",
       "13199  Super built-up  Area  Ready To Move              Doddathoguru   \n",
       "\n",
       "            size total_sqft  bath   balcony   price  total_sqft_float  \n",
       "0          2 BHK       1056   2.0  1.000000   39.07            1056.0  \n",
       "1      4 Bedroom       2600   5.0  3.000000  120.00            2600.0  \n",
       "2          3 BHK       1440   2.0  3.000000   62.00            1440.0  \n",
       "3          3 BHK       1521   3.0  1.000000   95.00            1521.0  \n",
       "4          2 BHK       1200   2.0  1.000000   51.00            1200.0  \n",
       "...          ...        ...   ...       ...     ...               ...  \n",
       "13195  5 Bedroom       3453   4.0  0.000000  231.00            3453.0  \n",
       "13196      4 BHK       3600   5.0  1.584376  400.00            3600.0  \n",
       "13197      2 BHK       1141   2.0  1.000000   60.00            1141.0  \n",
       "13198      4 BHK       4689   4.0  1.000000  488.00            4689.0  \n",
       "13199      1 BHK        550   1.0  1.000000   17.00             550.0  \n",
       "\n",
       "[13200 rows x 9 columns]"
      ]
     },
     "execution_count": 88,
     "metadata": {},
     "output_type": "execute_result"
    }
   ],
   "source": [
    "#Đánh lại index cho các hàng theo dãy số tự nhiên liên tiếp\n",
    "df6 = df6.reset_index(drop=True) \n",
    "df6"
   ]
  },
  {
   "cell_type": "code",
   "execution_count": 89,
   "metadata": {
    "colab": {
     "base_uri": "https://localhost:8080/"
    },
    "id": "-ig3eCT8myqg",
    "outputId": "6377bb33-41d2-426c-c7a8-8da4fc226ba7"
   },
   "outputs": [
    {
     "data": {
      "text/plain": [
       "(13200, 10)"
      ]
     },
     "execution_count": 89,
     "metadata": {},
     "output_type": "execute_result"
    }
   ],
   "source": [
    "# Thêm trường dữ liệu số phòng (bhk)\n",
    "df7 = df6.join(pd.DataFrame({'bhk':size_int}))\n",
    "df7.shape"
   ]
  },
  {
   "cell_type": "code",
   "execution_count": 90,
   "metadata": {
    "colab": {
     "base_uri": "https://localhost:8080/",
     "height": 312
    },
    "id": "91metB4mm0tJ",
    "outputId": "a5960f36-80c4-485a-9458-cc524cf12606"
   },
   "outputs": [
    {
     "data": {
      "text/html": [
       "<div>\n",
       "<style scoped>\n",
       "    .dataframe tbody tr th:only-of-type {\n",
       "        vertical-align: middle;\n",
       "    }\n",
       "\n",
       "    .dataframe tbody tr th {\n",
       "        vertical-align: top;\n",
       "    }\n",
       "\n",
       "    .dataframe thead th {\n",
       "        text-align: right;\n",
       "    }\n",
       "</style>\n",
       "<table border=\"1\" class=\"dataframe\">\n",
       "  <thead>\n",
       "    <tr style=\"text-align: right;\">\n",
       "      <th></th>\n",
       "      <th>area_type</th>\n",
       "      <th>availability</th>\n",
       "      <th>location</th>\n",
       "      <th>size</th>\n",
       "      <th>total_sqft</th>\n",
       "      <th>bath</th>\n",
       "      <th>balcony</th>\n",
       "      <th>price</th>\n",
       "      <th>total_sqft_float</th>\n",
       "      <th>bhk</th>\n",
       "    </tr>\n",
       "  </thead>\n",
       "  <tbody>\n",
       "    <tr>\n",
       "      <th>13195</th>\n",
       "      <td>Built-up  Area</td>\n",
       "      <td>Ready To Move</td>\n",
       "      <td>Whitefield</td>\n",
       "      <td>5 Bedroom</td>\n",
       "      <td>3453</td>\n",
       "      <td>4.0</td>\n",
       "      <td>0.000000</td>\n",
       "      <td>231.0</td>\n",
       "      <td>3453.0</td>\n",
       "      <td>5</td>\n",
       "    </tr>\n",
       "    <tr>\n",
       "      <th>13196</th>\n",
       "      <td>Super built-up  Area</td>\n",
       "      <td>Ready To Move</td>\n",
       "      <td>Richards Town</td>\n",
       "      <td>4 BHK</td>\n",
       "      <td>3600</td>\n",
       "      <td>5.0</td>\n",
       "      <td>1.584376</td>\n",
       "      <td>400.0</td>\n",
       "      <td>3600.0</td>\n",
       "      <td>4</td>\n",
       "    </tr>\n",
       "    <tr>\n",
       "      <th>13197</th>\n",
       "      <td>Built-up  Area</td>\n",
       "      <td>Ready To Move</td>\n",
       "      <td>Raja Rajeshwari Nagar</td>\n",
       "      <td>2 BHK</td>\n",
       "      <td>1141</td>\n",
       "      <td>2.0</td>\n",
       "      <td>1.000000</td>\n",
       "      <td>60.0</td>\n",
       "      <td>1141.0</td>\n",
       "      <td>2</td>\n",
       "    </tr>\n",
       "    <tr>\n",
       "      <th>13198</th>\n",
       "      <td>Super built-up  Area</td>\n",
       "      <td>18-Jun</td>\n",
       "      <td>Padmanabhanagar</td>\n",
       "      <td>4 BHK</td>\n",
       "      <td>4689</td>\n",
       "      <td>4.0</td>\n",
       "      <td>1.000000</td>\n",
       "      <td>488.0</td>\n",
       "      <td>4689.0</td>\n",
       "      <td>4</td>\n",
       "    </tr>\n",
       "    <tr>\n",
       "      <th>13199</th>\n",
       "      <td>Super built-up  Area</td>\n",
       "      <td>Ready To Move</td>\n",
       "      <td>Doddathoguru</td>\n",
       "      <td>1 BHK</td>\n",
       "      <td>550</td>\n",
       "      <td>1.0</td>\n",
       "      <td>1.000000</td>\n",
       "      <td>17.0</td>\n",
       "      <td>550.0</td>\n",
       "      <td>1</td>\n",
       "    </tr>\n",
       "  </tbody>\n",
       "</table>\n",
       "</div>"
      ],
      "text/plain": [
       "                  area_type   availability               location       size  \\\n",
       "13195        Built-up  Area  Ready To Move             Whitefield  5 Bedroom   \n",
       "13196  Super built-up  Area  Ready To Move          Richards Town      4 BHK   \n",
       "13197        Built-up  Area  Ready To Move  Raja Rajeshwari Nagar      2 BHK   \n",
       "13198  Super built-up  Area         18-Jun        Padmanabhanagar      4 BHK   \n",
       "13199  Super built-up  Area  Ready To Move           Doddathoguru      1 BHK   \n",
       "\n",
       "      total_sqft  bath   balcony  price  total_sqft_float  bhk  \n",
       "13195       3453   4.0  0.000000  231.0            3453.0    5  \n",
       "13196       3600   5.0  1.584376  400.0            3600.0    4  \n",
       "13197       1141   2.0  1.000000   60.0            1141.0    2  \n",
       "13198       4689   4.0  1.000000  488.0            4689.0    4  \n",
       "13199        550   1.0  1.000000   17.0             550.0    1  "
      ]
     },
     "execution_count": 90,
     "metadata": {},
     "output_type": "execute_result"
    }
   ],
   "source": [
    "#In ra kết quả thực hiện các thao tác kể trên?\n",
    "df7.tail()"
   ]
  },
  {
   "cell_type": "markdown",
   "metadata": {
    "id": "k4aiX9WlqQ8W"
   },
   "source": [
    "10. Finding Outlier and Removing\n",
    "* Dựa trên biểu đồ boxplot vừa thực hiện ở trên/ hoặc công cụ khác để phát hiện và loại bỏ các điểm ngoại lai:"
   ]
  },
  {
   "cell_type": "code",
   "execution_count": 91,
   "metadata": {
    "colab": {
     "base_uri": "https://localhost:8080/",
     "height": 298
    },
    "id": "PgKW3Hq1He5-",
    "outputId": "1d56a6cd-e8dc-4b00-d52a-fbf05d26984a"
   },
   "outputs": [
    {
     "data": {
      "text/plain": [
       "<Axes: xlabel='total_sqft_float'>"
      ]
     },
     "execution_count": 91,
     "metadata": {},
     "output_type": "execute_result"
    },
    {
     "data": {
      "image/png": "[encoded data removed]",
      "text/plain": [
       "<Figure size 640x480 with 1 Axes>"
      ]
     },
     "metadata": {},
     "output_type": "display_data"
    }
   ],
   "source": [
    "# Xem xét trường diện tích:\n",
    "sns.boxplot(x = df7['total_sqft_float'])"
   ]
  },
  {
   "cell_type": "code",
   "execution_count": 92,
   "metadata": {
    "colab": {
     "base_uri": "https://localhost:8080/",
     "height": 312
    },
    "id": "EpcfW0zGsFDr",
    "outputId": "455d2735-5af9-463b-87e1-d4ca1d9e4773"
   },
   "outputs": [
    {
     "data": {
      "text/html": [
       "<div>\n",
       "<style scoped>\n",
       "    .dataframe tbody tr th:only-of-type {\n",
       "        vertical-align: middle;\n",
       "    }\n",
       "\n",
       "    .dataframe tbody tr th {\n",
       "        vertical-align: top;\n",
       "    }\n",
       "\n",
       "    .dataframe thead th {\n",
       "        text-align: right;\n",
       "    }\n",
       "</style>\n",
       "<table border=\"1\" class=\"dataframe\">\n",
       "  <thead>\n",
       "    <tr style=\"text-align: right;\">\n",
       "      <th></th>\n",
       "      <th>area_type</th>\n",
       "      <th>availability</th>\n",
       "      <th>location</th>\n",
       "      <th>size</th>\n",
       "      <th>total_sqft</th>\n",
       "      <th>bath</th>\n",
       "      <th>balcony</th>\n",
       "      <th>price</th>\n",
       "      <th>total_sqft_float</th>\n",
       "      <th>bhk</th>\n",
       "    </tr>\n",
       "  </thead>\n",
       "  <tbody>\n",
       "    <tr>\n",
       "      <th>9</th>\n",
       "      <td>Plot  Area</td>\n",
       "      <td>Ready To Move</td>\n",
       "      <td>Gandhi Bazar</td>\n",
       "      <td>6 Bedroom</td>\n",
       "      <td>1020</td>\n",
       "      <td>6.0</td>\n",
       "      <td>1.584376</td>\n",
       "      <td>370.0</td>\n",
       "      <td>1020.0</td>\n",
       "      <td>6</td>\n",
       "    </tr>\n",
       "    <tr>\n",
       "      <th>26</th>\n",
       "      <td>Super built-up  Area</td>\n",
       "      <td>Ready To Move</td>\n",
       "      <td>Electronic City</td>\n",
       "      <td>2 BHK</td>\n",
       "      <td>660</td>\n",
       "      <td>1.0</td>\n",
       "      <td>1.000000</td>\n",
       "      <td>23.1</td>\n",
       "      <td>660.0</td>\n",
       "      <td>2</td>\n",
       "    </tr>\n",
       "    <tr>\n",
       "      <th>29</th>\n",
       "      <td>Super built-up  Area</td>\n",
       "      <td>Ready To Move</td>\n",
       "      <td>Electronic City</td>\n",
       "      <td>3 BHK</td>\n",
       "      <td>1025</td>\n",
       "      <td>2.0</td>\n",
       "      <td>1.000000</td>\n",
       "      <td>47.0</td>\n",
       "      <td>1025.0</td>\n",
       "      <td>3</td>\n",
       "    </tr>\n",
       "    <tr>\n",
       "      <th>45</th>\n",
       "      <td>Plot  Area</td>\n",
       "      <td>Ready To Move</td>\n",
       "      <td>HSR Layout</td>\n",
       "      <td>8 Bedroom</td>\n",
       "      <td>600</td>\n",
       "      <td>9.0</td>\n",
       "      <td>1.584376</td>\n",
       "      <td>200.0</td>\n",
       "      <td>600.0</td>\n",
       "      <td>8</td>\n",
       "    </tr>\n",
       "    <tr>\n",
       "      <th>57</th>\n",
       "      <td>Plot  Area</td>\n",
       "      <td>Ready To Move</td>\n",
       "      <td>Murugeshpalya</td>\n",
       "      <td>6 Bedroom</td>\n",
       "      <td>1407</td>\n",
       "      <td>4.0</td>\n",
       "      <td>1.000000</td>\n",
       "      <td>150.0</td>\n",
       "      <td>1407.0</td>\n",
       "      <td>6</td>\n",
       "    </tr>\n",
       "    <tr>\n",
       "      <th>...</th>\n",
       "      <td>...</td>\n",
       "      <td>...</td>\n",
       "      <td>...</td>\n",
       "      <td>...</td>\n",
       "      <td>...</td>\n",
       "      <td>...</td>\n",
       "      <td>...</td>\n",
       "      <td>...</td>\n",
       "      <td>...</td>\n",
       "      <td>...</td>\n",
       "    </tr>\n",
       "    <tr>\n",
       "      <th>13161</th>\n",
       "      <td>Plot  Area</td>\n",
       "      <td>Ready To Move</td>\n",
       "      <td>Margondanahalli</td>\n",
       "      <td>5 Bedroom</td>\n",
       "      <td>1375</td>\n",
       "      <td>5.0</td>\n",
       "      <td>1.000000</td>\n",
       "      <td>125.0</td>\n",
       "      <td>1375.0</td>\n",
       "      <td>5</td>\n",
       "    </tr>\n",
       "    <tr>\n",
       "      <th>13180</th>\n",
       "      <td>Plot  Area</td>\n",
       "      <td>Ready To Move</td>\n",
       "      <td>Hosakerehalli</td>\n",
       "      <td>5 Bedroom</td>\n",
       "      <td>1500</td>\n",
       "      <td>6.0</td>\n",
       "      <td>2.000000</td>\n",
       "      <td>145.0</td>\n",
       "      <td>1500.0</td>\n",
       "      <td>5</td>\n",
       "    </tr>\n",
       "    <tr>\n",
       "      <th>13183</th>\n",
       "      <td>Plot  Area</td>\n",
       "      <td>Ready To Move</td>\n",
       "      <td>Vidyaranyapura</td>\n",
       "      <td>5 Bedroom</td>\n",
       "      <td>774</td>\n",
       "      <td>5.0</td>\n",
       "      <td>3.000000</td>\n",
       "      <td>70.0</td>\n",
       "      <td>774.0</td>\n",
       "      <td>5</td>\n",
       "    </tr>\n",
       "    <tr>\n",
       "      <th>13186</th>\n",
       "      <td>Plot  Area</td>\n",
       "      <td>Ready To Move</td>\n",
       "      <td>Rajarajeshwari Nagara</td>\n",
       "      <td>4 Bedroom</td>\n",
       "      <td>1200</td>\n",
       "      <td>5.0</td>\n",
       "      <td>1.584376</td>\n",
       "      <td>325.0</td>\n",
       "      <td>1200.0</td>\n",
       "      <td>4</td>\n",
       "    </tr>\n",
       "    <tr>\n",
       "      <th>13191</th>\n",
       "      <td>Plot  Area</td>\n",
       "      <td>Ready To Move</td>\n",
       "      <td>Ramamurthy Nagar</td>\n",
       "      <td>7 Bedroom</td>\n",
       "      <td>1500</td>\n",
       "      <td>9.0</td>\n",
       "      <td>2.000000</td>\n",
       "      <td>250.0</td>\n",
       "      <td>1500.0</td>\n",
       "      <td>7</td>\n",
       "    </tr>\n",
       "  </tbody>\n",
       "</table>\n",
       "<p>1094 rows × 10 columns</p>\n",
       "</div>"
      ],
      "text/plain": [
       "                  area_type   availability               location       size  \\\n",
       "9                Plot  Area  Ready To Move           Gandhi Bazar  6 Bedroom   \n",
       "26     Super built-up  Area  Ready To Move        Electronic City      2 BHK   \n",
       "29     Super built-up  Area  Ready To Move        Electronic City      3 BHK   \n",
       "45               Plot  Area  Ready To Move             HSR Layout  8 Bedroom   \n",
       "57               Plot  Area  Ready To Move          Murugeshpalya  6 Bedroom   \n",
       "...                     ...            ...                    ...        ...   \n",
       "13161            Plot  Area  Ready To Move        Margondanahalli  5 Bedroom   \n",
       "13180            Plot  Area  Ready To Move          Hosakerehalli  5 Bedroom   \n",
       "13183            Plot  Area  Ready To Move         Vidyaranyapura  5 Bedroom   \n",
       "13186            Plot  Area  Ready To Move  Rajarajeshwari Nagara  4 Bedroom   \n",
       "13191            Plot  Area  Ready To Move       Ramamurthy Nagar  7 Bedroom   \n",
       "\n",
       "      total_sqft  bath   balcony  price  total_sqft_float  bhk  \n",
       "9           1020   6.0  1.584376  370.0            1020.0    6  \n",
       "26           660   1.0  1.000000   23.1             660.0    2  \n",
       "29          1025   2.0  1.000000   47.0            1025.0    3  \n",
       "45           600   9.0  1.584376  200.0             600.0    8  \n",
       "57          1407   4.0  1.000000  150.0            1407.0    6  \n",
       "...          ...   ...       ...    ...               ...  ...  \n",
       "13161       1375   5.0  1.000000  125.0            1375.0    5  \n",
       "13180       1500   6.0  2.000000  145.0            1500.0    5  \n",
       "13183        774   5.0  3.000000   70.0             774.0    5  \n",
       "13186       1200   5.0  1.584376  325.0            1200.0    4  \n",
       "13191       1500   9.0  2.000000  250.0            1500.0    7  \n",
       "\n",
       "[1094 rows x 10 columns]"
      ]
     },
     "execution_count": 92,
     "metadata": {},
     "output_type": "execute_result"
    }
   ],
   "source": [
    "# Chọn ngưỡng diện tích là 350 để xem xét\n",
    "df7[df7['total_sqft_float']/df7['bhk'] < 350]"
   ]
  },
  {
   "cell_type": "code",
   "execution_count": 93,
   "metadata": {
    "colab": {
     "base_uri": "https://localhost:8080/"
    },
    "id": "_KML6BbAuBhy",
    "outputId": "40622326-aa5d-42a6-f2ea-8cb637f96e7d"
   },
   "outputs": [
    {
     "data": {
      "text/plain": [
       "(12106, 10)"
      ]
     },
     "execution_count": 93,
     "metadata": {},
     "output_type": "execute_result"
    }
   ],
   "source": [
    "# Loại bỏ đi các điểm dữ liệu có diện tích phòng trung bình < 350\n",
    "df8 = df7[~(df7['total_sqft_float']/df7['bhk'] < 350)]\n",
    "df8.shape"
   ]
  },
  {
   "cell_type": "code",
   "execution_count": 94,
   "metadata": {
    "colab": {
     "base_uri": "https://localhost:8080/",
     "height": 421
    },
    "id": "Ub6uPFN4ux_2",
    "outputId": "b705aff0-f830-451a-f07a-e65639194a75"
   },
   "outputs": [
    {
     "name": "stderr",
     "output_type": "stream",
     "text": [
      "C:\\Users\\admin\\AppData\\Local\\Temp\\ipykernel_9188\\2056189343.py:2: SettingWithCopyWarning: \n",
      "A value is trying to be set on a copy of a slice from a DataFrame.\n",
      "Try using .loc[row_indexer,col_indexer] = value instead\n",
      "\n",
      "See the caveats in the documentation: https://pandas.pydata.org/pandas-docs/stable/user_guide/indexing.html#returning-a-view-versus-a-copy\n",
      "  df8['price_per_sqft'] = df8['price'] / df8['total_sqft_float']\n"
     ]
    },
    {
     "data": {
      "text/html": [
       "<div>\n",
       "<style scoped>\n",
       "    .dataframe tbody tr th:only-of-type {\n",
       "        vertical-align: middle;\n",
       "    }\n",
       "\n",
       "    .dataframe tbody tr th {\n",
       "        vertical-align: top;\n",
       "    }\n",
       "\n",
       "    .dataframe thead th {\n",
       "        text-align: right;\n",
       "    }\n",
       "</style>\n",
       "<table border=\"1\" class=\"dataframe\">\n",
       "  <thead>\n",
       "    <tr style=\"text-align: right;\">\n",
       "      <th></th>\n",
       "      <th>area_type</th>\n",
       "      <th>availability</th>\n",
       "      <th>location</th>\n",
       "      <th>size</th>\n",
       "      <th>total_sqft</th>\n",
       "      <th>bath</th>\n",
       "      <th>balcony</th>\n",
       "      <th>price</th>\n",
       "      <th>total_sqft_float</th>\n",
       "      <th>bhk</th>\n",
       "      <th>price_per_sqft</th>\n",
       "    </tr>\n",
       "  </thead>\n",
       "  <tbody>\n",
       "    <tr>\n",
       "      <th>0</th>\n",
       "      <td>Super built-up  Area</td>\n",
       "      <td>19-Dec</td>\n",
       "      <td>Electronic City Phase II</td>\n",
       "      <td>2 BHK</td>\n",
       "      <td>1056</td>\n",
       "      <td>2.0</td>\n",
       "      <td>1.0</td>\n",
       "      <td>39.07</td>\n",
       "      <td>1056.0</td>\n",
       "      <td>2</td>\n",
       "      <td>0.036998</td>\n",
       "    </tr>\n",
       "    <tr>\n",
       "      <th>1</th>\n",
       "      <td>Plot  Area</td>\n",
       "      <td>Ready To Move</td>\n",
       "      <td>Chikka Tirupathi</td>\n",
       "      <td>4 Bedroom</td>\n",
       "      <td>2600</td>\n",
       "      <td>5.0</td>\n",
       "      <td>3.0</td>\n",
       "      <td>120.00</td>\n",
       "      <td>2600.0</td>\n",
       "      <td>4</td>\n",
       "      <td>0.046154</td>\n",
       "    </tr>\n",
       "    <tr>\n",
       "      <th>2</th>\n",
       "      <td>Built-up  Area</td>\n",
       "      <td>Ready To Move</td>\n",
       "      <td>Uttarahalli</td>\n",
       "      <td>3 BHK</td>\n",
       "      <td>1440</td>\n",
       "      <td>2.0</td>\n",
       "      <td>3.0</td>\n",
       "      <td>62.00</td>\n",
       "      <td>1440.0</td>\n",
       "      <td>3</td>\n",
       "      <td>0.043056</td>\n",
       "    </tr>\n",
       "    <tr>\n",
       "      <th>3</th>\n",
       "      <td>Super built-up  Area</td>\n",
       "      <td>Ready To Move</td>\n",
       "      <td>Lingadheeranahalli</td>\n",
       "      <td>3 BHK</td>\n",
       "      <td>1521</td>\n",
       "      <td>3.0</td>\n",
       "      <td>1.0</td>\n",
       "      <td>95.00</td>\n",
       "      <td>1521.0</td>\n",
       "      <td>3</td>\n",
       "      <td>0.062459</td>\n",
       "    </tr>\n",
       "    <tr>\n",
       "      <th>4</th>\n",
       "      <td>Super built-up  Area</td>\n",
       "      <td>Ready To Move</td>\n",
       "      <td>Kothanur</td>\n",
       "      <td>2 BHK</td>\n",
       "      <td>1200</td>\n",
       "      <td>2.0</td>\n",
       "      <td>1.0</td>\n",
       "      <td>51.00</td>\n",
       "      <td>1200.0</td>\n",
       "      <td>2</td>\n",
       "      <td>0.042500</td>\n",
       "    </tr>\n",
       "  </tbody>\n",
       "</table>\n",
       "</div>"
      ],
      "text/plain": [
       "              area_type   availability                  location       size  \\\n",
       "0  Super built-up  Area         19-Dec  Electronic City Phase II      2 BHK   \n",
       "1            Plot  Area  Ready To Move          Chikka Tirupathi  4 Bedroom   \n",
       "2        Built-up  Area  Ready To Move               Uttarahalli      3 BHK   \n",
       "3  Super built-up  Area  Ready To Move        Lingadheeranahalli      3 BHK   \n",
       "4  Super built-up  Area  Ready To Move                  Kothanur      2 BHK   \n",
       "\n",
       "  total_sqft  bath  balcony   price  total_sqft_float  bhk  price_per_sqft  \n",
       "0       1056   2.0      1.0   39.07            1056.0    2        0.036998  \n",
       "1       2600   5.0      3.0  120.00            2600.0    4        0.046154  \n",
       "2       1440   2.0      3.0   62.00            1440.0    3        0.043056  \n",
       "3       1521   3.0      1.0   95.00            1521.0    3        0.062459  \n",
       "4       1200   2.0      1.0   51.00            1200.0    2        0.042500  "
      ]
     },
     "execution_count": 94,
     "metadata": {},
     "output_type": "execute_result"
    }
   ],
   "source": [
    "# Tạo thêm trường dữ liệu price_per_sqft (giá/ diện tích feet vuông)\n",
    "df8['price_per_sqft'] = df8['price'] / df8['total_sqft_float']  \n",
    "df8.head()"
   ]
  },
  {
   "cell_type": "code",
   "execution_count": 95,
   "metadata": {
    "colab": {
     "base_uri": "https://localhost:8080/"
    },
    "id": "sGJwRpkNvFB7",
    "outputId": "501e2dd5-1e4c-4005-bfd2-d866600f8928"
   },
   "outputs": [
    {
     "data": {
      "text/plain": [
       "count    12106.000000\n",
       "mean         0.061845\n",
       "std          0.040200\n",
       "min          0.002678\n",
       "25%          0.042000\n",
       "50%          0.052611\n",
       "75%          0.068000\n",
       "max          1.764706\n",
       "Name: price_per_sqft, dtype: float64"
      ]
     },
     "execution_count": 95,
     "metadata": {},
     "output_type": "execute_result"
    }
   ],
   "source": [
    "df8.price_per_sqft.describe()"
   ]
  },
  {
   "cell_type": "markdown",
   "metadata": {
    "id": "xDFbPx1sJG4K"
   },
   "source": [
    "# Bài tập bổ sung (homework)\n",
    "\n",
    "> Phần bài tập này là các câu hỏi  mở rộng, làm tiếp theo bài toán ở trên. Học viên cần viết mã để thực hiện các yêu cầu dưới đây:"
   ]
  },
  {
   "cell_type": "markdown",
   "metadata": {
    "id": "w966RKXmnaiy"
   },
   "source": [
    "Bài tập 0: Sử dụng sns.boxplot() để quan sát đặc điểm phân bố dữ liệu của các trường số, mỗi trường này có outlier ko?"
   ]
  },
  {
   "cell_type": "code",
   "execution_count": 96,
   "metadata": {
    "id": "uKRSBk_TnZZh"
   },
   "outputs": [
    {
     "data": {
      "image/png": "[encoded data removed]",
      "text/plain": [
       "<Figure size 1600x1200 with 6 Axes>"
      ]
     },
     "metadata": {},
     "output_type": "display_data"
    }
   ],
   "source": [
    "# Sử dụng boxplot để quan sát phân bố của dữ liệu và phát hiện ngoại lai của từng trường dữ liệu trong vars\n",
    "# Gợi ý: sns.boxplot(data_field)\n",
    "\n",
    "vars = ['price', 'total_sqft_float', 'price_per_sqft', 'balcony', 'bath', 'bhk']\n",
    "plt.figure(figsize=(16,12))\n",
    "#Code ở đây\n",
    "for i, col in enumerate(vars, 1):\n",
    "    plt.subplot(3, 2, i)  # 3 rows, 2 columns of subplots\n",
    "    sns.boxplot(data=df8, y=col, color='skyblue')\n",
    "    plt.title(f'Boxplot of {col}')\n",
    "    plt.tight_layout()  # prevent overlap between plots\n",
    "\n",
    "plt.show()"
   ]
  },
  {
   "cell_type": "markdown",
   "metadata": {
    "id": "eLhjgWGveMhf"
   },
   "source": [
    "Bài tập 1: Viết hàm bỏ đi các điểm dữ liệu có price per sqft dựa trên mean, std của các ngôi nhà dựa trên từng vị trí\n",
    "\n",
    "> Gợi ý: Xét trên từng vị trí (location), ngôi nhà thỏa mãn phải có $price\\_per\\_sqft \\in [mean - std, mean + std]$"
   ]
  },
  {
   "cell_type": "code",
   "execution_count": 97,
   "metadata": {},
   "outputs": [
    {
     "data": {
      "text/plain": [
       "count    12106.000000\n",
       "mean         0.061845\n",
       "std          0.040200\n",
       "min          0.002678\n",
       "25%          0.042000\n",
       "50%          0.052611\n",
       "75%          0.068000\n",
       "max          1.764706\n",
       "Name: price_per_sqft, dtype: float64"
      ]
     },
     "execution_count": 97,
     "metadata": {},
     "output_type": "execute_result"
    }
   ],
   "source": [
    "df8[\"price_per_sqft\"].describe()"
   ]
  },
  {
   "cell_type": "code",
   "execution_count": 98,
   "metadata": {
    "colab": {
     "base_uri": "https://localhost:8080/"
    },
    "id": "qpAdC6wJwJ5E",
    "outputId": "d117e1f9-541d-4c12-af21-bcc36cf4c989"
   },
   "outputs": [
    {
     "data": {
      "text/plain": [
       "(9239, 11)"
      ]
     },
     "execution_count": 98,
     "metadata": {},
     "output_type": "execute_result"
    }
   ],
   "source": [
    "def remove_pps_outliers(df, column):\n",
    "  #Code ở đây\n",
    "  new_df = pd.DataFrame()\n",
    "  for key, subdf in df.groupby(\"location\"):\n",
    "    e = subdf[column].mean()\n",
    "    std = subdf[column].std()\n",
    "    upper = e + std\n",
    "    lower = e - std\n",
    "    satisfied_df = subdf[(subdf[column] <= upper) & (subdf[column] >= lower)]\n",
    "    new_df = pd.concat([new_df, satisfied_df], ignore_index=True)\n",
    "  return new_df\n",
    "#--------\n",
    "df9 = remove_pps_outliers(df8, \"price_per_sqft\")\n",
    "df9.shape"
   ]
  },
  {
   "cell_type": "markdown",
   "metadata": {
    "id": "WR0jq1aheMhh"
   },
   "source": [
    "Bài tập 2: Loại bỏ outlier xét theo trường bkh (số phòng)\n",
    "\n",
    "Xét theo từng khu vực địa lí và theo từng loại nhà với số lượng phòng khác nhau, có một số ngôi nhà có giá không hợp lí (outliers), hãy tìm cách loại bỏ các outlier này. Cần ghi rõ quy tắc ghi nhận outlier"
   ]
  },
  {
   "cell_type": "code",
   "execution_count": 99,
   "metadata": {
    "colab": {
     "base_uri": "https://localhost:8080/"
    },
    "id": "6RtsF0zbyqY7",
    "outputId": "39477a6c-913c-4cdf-80eb-948646ae370c"
   },
   "outputs": [
    {
     "data": {
      "text/plain": [
       "(7544, 11)"
      ]
     },
     "execution_count": 99,
     "metadata": {},
     "output_type": "execute_result"
    }
   ],
   "source": [
    "def remove_bhk_outliers(df):\n",
    "  # Code ở đây\n",
    "  exclude_indices = np.array([])\n",
    "  for key, location_df in df.groupby('location'):\n",
    "    bhk_stats = {}\n",
    "    for bhk, bhk_df in location_df.groupby('bhk'):\n",
    "      bhk_stats[bhk]={\n",
    "          'mean':np.mean(bhk_df.price_per_sqft),\n",
    "          'std':np.std(bhk_df.price_per_sqft),\n",
    "          'count':bhk_df.shape[0]}\n",
    "    for bhk, bhk_df in location_df.groupby('bhk'):\n",
    "      stats=bhk_stats.get(bhk-1)\n",
    "      if stats and stats['count']>5:\n",
    "        exclude_indices = np.append(exclude_indices, bhk_df[bhk_df.price_per_sqft<(stats['mean'])].index.values)\n",
    "  return df.drop(exclude_indices, axis='index')\n",
    "\n",
    "df10 = remove_bhk_outliers(df9)\n",
    "df10.shape"
   ]
  },
  {
   "cell_type": "markdown",
   "metadata": {
    "id": "QQ7lWGTG0f7_"
   },
   "source": [
    "Bài tập 3: Loại bỏ outlier khi xét trường 'bathroom'"
   ]
  },
  {
   "cell_type": "code",
   "execution_count": 100,
   "metadata": {
    "colab": {
     "base_uri": "https://localhost:8080/"
    },
    "id": "8sdFD1NZ0H4t",
    "outputId": "8615f5cb-4ea4-43b9-903f-d353471aef09"
   },
   "outputs": [
    {
     "data": {
      "text/plain": [
       "array([ 2.,  3.,  1.,  5.,  4.,  8.,  9.,  6.,  7., 16., 12.])"
      ]
     },
     "execution_count": 100,
     "metadata": {},
     "output_type": "execute_result"
    }
   ],
   "source": [
    "df10.bath.unique() #Có thể quan sát thấý một số căn nhà có số phòng tắm quá lớn (VD: 12!!!)"
   ]
  },
  {
   "cell_type": "code",
   "execution_count": 101,
   "metadata": {
    "id": "2eUHdFGs0p_Q"
   },
   "outputs": [
    {
     "data": {
      "text/html": [
       "<div>\n",
       "<style scoped>\n",
       "    .dataframe tbody tr th:only-of-type {\n",
       "        vertical-align: middle;\n",
       "    }\n",
       "\n",
       "    .dataframe tbody tr th {\n",
       "        vertical-align: top;\n",
       "    }\n",
       "\n",
       "    .dataframe thead th {\n",
       "        text-align: right;\n",
       "    }\n",
       "</style>\n",
       "<table border=\"1\" class=\"dataframe\">\n",
       "  <thead>\n",
       "    <tr style=\"text-align: right;\">\n",
       "      <th></th>\n",
       "      <th>area_type</th>\n",
       "      <th>availability</th>\n",
       "      <th>location</th>\n",
       "      <th>size</th>\n",
       "      <th>total_sqft</th>\n",
       "      <th>bath</th>\n",
       "      <th>balcony</th>\n",
       "      <th>price</th>\n",
       "      <th>total_sqft_float</th>\n",
       "      <th>bhk</th>\n",
       "      <th>price_per_sqft</th>\n",
       "    </tr>\n",
       "  </thead>\n",
       "  <tbody>\n",
       "    <tr>\n",
       "      <th>1939</th>\n",
       "      <td>Built-up  Area</td>\n",
       "      <td>Ready To Move</td>\n",
       "      <td>Chikkabanavar</td>\n",
       "      <td>4 Bedroom</td>\n",
       "      <td>2460</td>\n",
       "      <td>7.0</td>\n",
       "      <td>2.000000</td>\n",
       "      <td>80.0</td>\n",
       "      <td>2460.0</td>\n",
       "      <td>4</td>\n",
       "      <td>0.032520</td>\n",
       "    </tr>\n",
       "    <tr>\n",
       "      <th>6063</th>\n",
       "      <td>Built-up  Area</td>\n",
       "      <td>Ready To Move</td>\n",
       "      <td>Nagasandra</td>\n",
       "      <td>4 Bedroom</td>\n",
       "      <td>7000</td>\n",
       "      <td>8.0</td>\n",
       "      <td>1.584376</td>\n",
       "      <td>450.0</td>\n",
       "      <td>7000.0</td>\n",
       "      <td>4</td>\n",
       "      <td>0.064286</td>\n",
       "    </tr>\n",
       "    <tr>\n",
       "      <th>7373</th>\n",
       "      <td>Super built-up  Area</td>\n",
       "      <td>Ready To Move</td>\n",
       "      <td>Sathya Sai Layout</td>\n",
       "      <td>6 BHK</td>\n",
       "      <td>11338</td>\n",
       "      <td>9.0</td>\n",
       "      <td>1.000000</td>\n",
       "      <td>1000.0</td>\n",
       "      <td>11338.0</td>\n",
       "      <td>6</td>\n",
       "      <td>0.088199</td>\n",
       "    </tr>\n",
       "    <tr>\n",
       "      <th>7877</th>\n",
       "      <td>Super built-up  Area</td>\n",
       "      <td>Ready To Move</td>\n",
       "      <td>Thanisandra</td>\n",
       "      <td>3 BHK</td>\n",
       "      <td>1806</td>\n",
       "      <td>6.0</td>\n",
       "      <td>2.000000</td>\n",
       "      <td>116.0</td>\n",
       "      <td>1806.0</td>\n",
       "      <td>3</td>\n",
       "      <td>0.064230</td>\n",
       "    </tr>\n",
       "  </tbody>\n",
       "</table>\n",
       "</div>"
      ],
      "text/plain": [
       "                 area_type   availability           location       size  \\\n",
       "1939        Built-up  Area  Ready To Move      Chikkabanavar  4 Bedroom   \n",
       "6063        Built-up  Area  Ready To Move         Nagasandra  4 Bedroom   \n",
       "7373  Super built-up  Area  Ready To Move  Sathya Sai Layout      6 BHK   \n",
       "7877  Super built-up  Area  Ready To Move        Thanisandra      3 BHK   \n",
       "\n",
       "     total_sqft  bath   balcony   price  total_sqft_float  bhk  price_per_sqft  \n",
       "1939       2460   7.0  2.000000    80.0            2460.0    4        0.032520  \n",
       "6063       7000   8.0  1.584376   450.0            7000.0    4        0.064286  \n",
       "7373      11338   9.0  1.000000  1000.0           11338.0    6        0.088199  \n",
       "7877       1806   6.0  2.000000   116.0            1806.0    3        0.064230  "
      ]
     },
     "execution_count": 101,
     "metadata": {},
     "output_type": "execute_result"
    }
   ],
   "source": [
    "df10[df10.bath > df10.bhk+2]"
   ]
  },
  {
   "cell_type": "code",
   "execution_count": 102,
   "metadata": {
    "colab": {
     "base_uri": "https://localhost:8080/"
    },
    "id": "nrpCKw3Q03fG",
    "outputId": "496cf3fa-0d61-4160-cca2-799e4bf1f5d0"
   },
   "outputs": [
    {
     "data": {
      "text/plain": [
       "(7463, 11)"
      ]
     },
     "execution_count": 102,
     "metadata": {},
     "output_type": "execute_result"
    }
   ],
   "source": [
    "#Code ở đây, sao cho: df10[df10.bath < df10.bhk+2]\n",
    "df11 = df10[df10.bath < df10.bhk+2]\n",
    "df11.shape"
   ]
  },
  {
   "cell_type": "code",
   "execution_count": 103,
   "metadata": {
    "id": "JMVuL-QJ2cxm"
   },
   "outputs": [
    {
     "data": {
      "text/html": [
       "<div>\n",
       "<style scoped>\n",
       "    .dataframe tbody tr th:only-of-type {\n",
       "        vertical-align: middle;\n",
       "    }\n",
       "\n",
       "    .dataframe tbody tr th {\n",
       "        vertical-align: top;\n",
       "    }\n",
       "\n",
       "    .dataframe thead th {\n",
       "        text-align: right;\n",
       "    }\n",
       "</style>\n",
       "<table border=\"1\" class=\"dataframe\">\n",
       "  <thead>\n",
       "    <tr style=\"text-align: right;\">\n",
       "      <th></th>\n",
       "      <th>area_type</th>\n",
       "      <th>availability</th>\n",
       "      <th>location</th>\n",
       "      <th>size</th>\n",
       "      <th>total_sqft</th>\n",
       "      <th>bath</th>\n",
       "      <th>balcony</th>\n",
       "      <th>price</th>\n",
       "      <th>total_sqft_float</th>\n",
       "      <th>bhk</th>\n",
       "      <th>price_per_sqft</th>\n",
       "    </tr>\n",
       "  </thead>\n",
       "  <tbody>\n",
       "    <tr>\n",
       "      <th>0</th>\n",
       "      <td>Super built-up  Area</td>\n",
       "      <td>Ready To Move</td>\n",
       "      <td>Devarabeesana Halli</td>\n",
       "      <td>2 BHK</td>\n",
       "      <td>1100</td>\n",
       "      <td>2.0</td>\n",
       "      <td>1.0</td>\n",
       "      <td>70.0</td>\n",
       "      <td>1100.0</td>\n",
       "      <td>2</td>\n",
       "      <td>0.063636</td>\n",
       "    </tr>\n",
       "    <tr>\n",
       "      <th>1</th>\n",
       "      <td>Super built-up  Area</td>\n",
       "      <td>Ready To Move</td>\n",
       "      <td>Devarabeesana Halli</td>\n",
       "      <td>3 BHK</td>\n",
       "      <td>1672</td>\n",
       "      <td>3.0</td>\n",
       "      <td>2.0</td>\n",
       "      <td>150.0</td>\n",
       "      <td>1672.0</td>\n",
       "      <td>3</td>\n",
       "      <td>0.089713</td>\n",
       "    </tr>\n",
       "    <tr>\n",
       "      <th>2</th>\n",
       "      <td>Built-up  Area</td>\n",
       "      <td>Ready To Move</td>\n",
       "      <td>Devarabeesana Halli</td>\n",
       "      <td>3 BHK</td>\n",
       "      <td>1750</td>\n",
       "      <td>3.0</td>\n",
       "      <td>3.0</td>\n",
       "      <td>149.0</td>\n",
       "      <td>1750.0</td>\n",
       "      <td>3</td>\n",
       "      <td>0.085143</td>\n",
       "    </tr>\n",
       "    <tr>\n",
       "      <th>3</th>\n",
       "      <td>Super built-up  Area</td>\n",
       "      <td>Ready To Move</td>\n",
       "      <td>Devarabeesana Halli</td>\n",
       "      <td>3 BHK</td>\n",
       "      <td>1750</td>\n",
       "      <td>3.0</td>\n",
       "      <td>2.0</td>\n",
       "      <td>150.0</td>\n",
       "      <td>1750.0</td>\n",
       "      <td>3</td>\n",
       "      <td>0.085714</td>\n",
       "    </tr>\n",
       "    <tr>\n",
       "      <th>5</th>\n",
       "      <td>Super built-up  Area</td>\n",
       "      <td>Ready To Move</td>\n",
       "      <td>Devarachikkanahalli</td>\n",
       "      <td>2 BHK</td>\n",
       "      <td>1250</td>\n",
       "      <td>2.0</td>\n",
       "      <td>2.0</td>\n",
       "      <td>40.0</td>\n",
       "      <td>1250.0</td>\n",
       "      <td>2</td>\n",
       "      <td>0.032000</td>\n",
       "    </tr>\n",
       "  </tbody>\n",
       "</table>\n",
       "</div>"
      ],
      "text/plain": [
       "              area_type   availability              location   size  \\\n",
       "0  Super built-up  Area  Ready To Move   Devarabeesana Halli  2 BHK   \n",
       "1  Super built-up  Area  Ready To Move   Devarabeesana Halli  3 BHK   \n",
       "2        Built-up  Area  Ready To Move   Devarabeesana Halli  3 BHK   \n",
       "3  Super built-up  Area  Ready To Move   Devarabeesana Halli  3 BHK   \n",
       "5  Super built-up  Area  Ready To Move   Devarachikkanahalli  2 BHK   \n",
       "\n",
       "  total_sqft  bath  balcony  price  total_sqft_float  bhk  price_per_sqft  \n",
       "0       1100   2.0      1.0   70.0            1100.0    2        0.063636  \n",
       "1       1672   3.0      2.0  150.0            1672.0    3        0.089713  \n",
       "2       1750   3.0      3.0  149.0            1750.0    3        0.085143  \n",
       "3       1750   3.0      2.0  150.0            1750.0    3        0.085714  \n",
       "5       1250   2.0      2.0   40.0            1250.0    2        0.032000  "
      ]
     },
     "execution_count": 103,
     "metadata": {},
     "output_type": "execute_result"
    }
   ],
   "source": [
    "df11.head()"
   ]
  },
  {
   "cell_type": "code",
   "execution_count": 104,
   "metadata": {
    "id": "pNXZiHv9138i"
   },
   "outputs": [
    {
     "data": {
      "image/png": "[encoded data removed]",
      "text/plain": [
       "<Figure size 640x480 with 6 Axes>"
      ]
     },
     "metadata": {},
     "output_type": "display_data"
    }
   ],
   "source": [
    "# Quan sát lại kết quả sau khi xử lí với boxplot\n",
    "for i, col in enumerate(vars, 1):\n",
    "    plt.subplot(3, 2, i)  # 3 rows, 2 columns of subplots\n",
    "    sns.boxplot(data=df8, y=col, color='skyblue')\n",
    "    plt.title(f'Boxplot of {col}')\n",
    "    plt.tight_layout()  # prevent overlap between plots\n",
    "\n",
    "plt.show()\n",
    "# (Dùng lại hàm đã code bên trên)"
   ]
  },
  {
   "cell_type": "markdown",
   "metadata": {
    "id": "EgDGb6a6pXUe"
   },
   "source": [
    "Bài tập 4: Xem xét bỏ đi các trường không cần thiết\n",
    "\n",
    "Gợi ý: bỏ đi ['area_type', 'availability',\"location\",\"size\",\"total_sqft\"]"
   ]
  },
  {
   "cell_type": "code",
   "execution_count": 105,
   "metadata": {
    "id": "d2uIPGKJ3ZKD"
   },
   "outputs": [
    {
     "data": {
      "text/html": [
       "<div>\n",
       "<style scoped>\n",
       "    .dataframe tbody tr th:only-of-type {\n",
       "        vertical-align: middle;\n",
       "    }\n",
       "\n",
       "    .dataframe tbody tr th {\n",
       "        vertical-align: top;\n",
       "    }\n",
       "\n",
       "    .dataframe thead th {\n",
       "        text-align: right;\n",
       "    }\n",
       "</style>\n",
       "<table border=\"1\" class=\"dataframe\">\n",
       "  <thead>\n",
       "    <tr style=\"text-align: right;\">\n",
       "      <th></th>\n",
       "      <th>bath</th>\n",
       "      <th>balcony</th>\n",
       "      <th>price</th>\n",
       "      <th>total_sqft_float</th>\n",
       "      <th>bhk</th>\n",
       "      <th>price_per_sqft</th>\n",
       "    </tr>\n",
       "  </thead>\n",
       "  <tbody>\n",
       "    <tr>\n",
       "      <th>0</th>\n",
       "      <td>2.0</td>\n",
       "      <td>1.0</td>\n",
       "      <td>70.0</td>\n",
       "      <td>1100.0</td>\n",
       "      <td>2</td>\n",
       "      <td>0.063636</td>\n",
       "    </tr>\n",
       "    <tr>\n",
       "      <th>1</th>\n",
       "      <td>3.0</td>\n",
       "      <td>2.0</td>\n",
       "      <td>150.0</td>\n",
       "      <td>1672.0</td>\n",
       "      <td>3</td>\n",
       "      <td>0.089713</td>\n",
       "    </tr>\n",
       "    <tr>\n",
       "      <th>2</th>\n",
       "      <td>3.0</td>\n",
       "      <td>3.0</td>\n",
       "      <td>149.0</td>\n",
       "      <td>1750.0</td>\n",
       "      <td>3</td>\n",
       "      <td>0.085143</td>\n",
       "    </tr>\n",
       "    <tr>\n",
       "      <th>3</th>\n",
       "      <td>3.0</td>\n",
       "      <td>2.0</td>\n",
       "      <td>150.0</td>\n",
       "      <td>1750.0</td>\n",
       "      <td>3</td>\n",
       "      <td>0.085714</td>\n",
       "    </tr>\n",
       "    <tr>\n",
       "      <th>5</th>\n",
       "      <td>2.0</td>\n",
       "      <td>2.0</td>\n",
       "      <td>40.0</td>\n",
       "      <td>1250.0</td>\n",
       "      <td>2</td>\n",
       "      <td>0.032000</td>\n",
       "    </tr>\n",
       "  </tbody>\n",
       "</table>\n",
       "</div>"
      ],
      "text/plain": [
       "   bath  balcony  price  total_sqft_float  bhk  price_per_sqft\n",
       "0   2.0      1.0   70.0            1100.0    2        0.063636\n",
       "1   3.0      2.0  150.0            1672.0    3        0.089713\n",
       "2   3.0      3.0  149.0            1750.0    3        0.085143\n",
       "3   3.0      2.0  150.0            1750.0    3        0.085714\n",
       "5   2.0      2.0   40.0            1250.0    2        0.032000"
      ]
     },
     "execution_count": 105,
     "metadata": {},
     "output_type": "execute_result"
    }
   ],
   "source": [
    "df12 = df11.drop(['area_type', 'availability',\"location\",\"size\",\"total_sqft\"], axis = 1)#Code ở đây \n",
    "df12.head()"
   ]
  },
  {
   "cell_type": "code",
   "execution_count": 106,
   "metadata": {
    "id": "q13U9W1U30gR"
   },
   "outputs": [],
   "source": [
    "#Lưu kết quả xử lí cuối cùng:\n",
    "\n",
    "df12.to_csv(\"clean_data.csv\", index=False)"
   ]
  },
  {
   "cell_type": "markdown",
   "metadata": {
    "id": "GI125wJWKbP4"
   },
   "source": [
    "Bài tập 5*: Viết hàm trực quan hóa thể hiện mối tương quan giữa tổng diện tích (total_sqft) và giá nhà (price) theo từng vị trí địa lí (location) (tùy chọn minh họa theo 2 vị trí nào đó), của những căn nhà có 2 hoặc 3 phòng. Và cần phân biệt rõ điểm dữ liệu nào tương ứng với nhà có 2 phòng, điểm nào tương ứng với nhà có 3 phòng?\n",
    "\n",
    "Gợi ý: Kết quả tương tự như hình dưới/ hoặc biểu đồ khác có ý nghĩa tương đương\n",
    "\n",
    "![viz.png](data:image/png;base64,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)"
   ]
  },
  {
   "cell_type": "code",
   "execution_count": 107,
   "metadata": {
    "id": "ZE5Do-K8xXyp"
   },
   "outputs": [
    {
     "data": {
      "image/png": "[encoded data removed]",
      "text/plain": [
       "<Figure size 1600x900 with 1 Axes>"
      ]
     },
     "metadata": {},
     "output_type": "display_data"
    }
   ],
   "source": [
    "#Gợi ý: Sử dụng plt.scatter() .... hoạc câu lệnh khác tương đương. Làm với df9\n",
    "\n",
    "def plot_scatter_chart(df,location):\n",
    "  bhk2 = df[(df.location==location) & (df.bhk==2)]\n",
    "  bhk3 = df[(df.location==location) & (df.bhk==3)]\n",
    "  plt.figure(figsize=(16,9))\n",
    "  plt.scatter(bhk2.total_sqft_float, bhk2.price, color='Blue', label='2 BHK', s=50)\n",
    "  plt.scatter(bhk3.total_sqft_float, bhk3.price, color='Red', label='3 BHK', s=50, marker=\"+\")\n",
    "  plt.xlabel(\"Total Square Feet Area\")\n",
    "  plt.ylabel(\"Price\")\n",
    "  plt.title(location)\n",
    "  plt.legend()\n",
    "\n",
    "plot_scatter_chart(df9, \"Rajaji Nagar\")"
   ]
  },
  {
   "cell_type": "code",
   "execution_count": 108,
   "metadata": {
    "id": "OWYS0z-wyD3d"
   },
   "outputs": [
    {
     "data": {
      "image/png": "[encoded data removed]",
      "text/plain": [
       "<Figure size 1600x900 with 1 Axes>"
      ]
     },
     "metadata": {},
     "output_type": "display_data"
    }
   ],
   "source": [
    "plot_scatter_chart(df9, \"Hebbal\")"
   ]
  },
  {
   "cell_type": "markdown",
   "metadata": {
    "id": "uSVcpIgYmMo8"
   },
   "source": [
    "Bài tập 6*: Thực hiện các câu lệnh để trả lời các câu hỏi dưới đây:\n",
    "\n",
    "* Thống kê giá nhà theo từng loại khu vực (area_type). Làm với df9:\n",
    "* xem xét theo từng khu vực, thì giá nhà trung bình (price_per_sqft) là bao nhiêu, tương quan về giá nhà trung bình giữa các khu vực\n",
    "\n",
    "* Gợi ý: Phần này có thể đưa ra kết quả dạng bảng hoặc biểu đồ (cột, histogram, ...). \n",
    " - Sử dụng các lệnh: df.groupby(), df.sortvalues(), ... để trích xuất giá trị\n",
    " - Sử dụng matplotlib: plt.bar(), ...\n"
   ]
  },
  {
   "cell_type": "code",
   "execution_count": 109,
   "metadata": {
    "id": "pWS_6MLbCxLu"
   },
   "outputs": [
    {
     "name": "stderr",
     "output_type": "stream",
     "text": [
      "C:\\Users\\admin\\AppData\\Local\\Temp\\ipykernel_9188\\1364471990.py:19: UserWarning: set_ticklabels() should only be used with a fixed number of ticks, i.e. after set_ticks() or using a FixedLocator.\n",
      "  plt.gca().set_xticklabels(df_not_society['area_type'], rotation=60, horizontalalignment= 'right')\n"
     ]
    },
    {
     "data": {
      "image/png": "[encoded data removed]",
      "text/plain": [
       "<Figure size 1280x800 with 1 Axes>"
      ]
     },
     "metadata": {},
     "output_type": "display_data"
    }
   ],
   "source": [
    "# Code ở đây\n",
    "import random \n",
    "\n",
    "df91 = df9.groupby('area_type')['price_per_sqft'].mean().reset_index(name='money')\n",
    "df91 = df91.sort_values(by = 'money') \n",
    "\n",
    "df91['money'] = df91['money'].apply(lambda x : round(x, 2))\n",
    "n = df91['area_type'].unique().__len__()+1\n",
    "all_colors = list(plt.cm.colors.cnames.keys())\n",
    "\n",
    "random.seed(100) #Chọn màu ngẫu nhiên cho các cột :)\n",
    "c = random.choices(all_colors, k=n)\n",
    "\n",
    "plt.figure(figsize=(16,10), dpi= 80)\n",
    "plt.bar(df91['area_type'], df91['money'], color=c, width=.5)\n",
    "for i, val in enumerate(df91['money'].values):\n",
    "    plt.text(i, val, float(val), horizontalalignment='center', verticalalignment='bottom', fontdict={'fontweight':500, 'size':12})\n",
    "\n",
    "plt.gca().set_xticklabels(df_not_society['area_type'], rotation=60, horizontalalignment= 'right')\n",
    "plt.title(\"Biểu đồ thể hiện giá nhà đất trung bình theo khu vực\", fontsize=22)\n",
    "plt.ylabel('amount of money')\n",
    "plt.show()"
   ]
  }
 ],
 "metadata": {
  "colab": {
   "collapsed_sections": [
    "1RCu8-CFeMhF",
    "CpaCNh31eMhK",
    "28ZmNDczeMhM",
    "J_NF04EUfggt",
    "N6cwp4CoeMhQ",
    "ttrTU8D5eMhT",
    "0ihcur-ZeMhV",
    "VBSkeexNeMhV",
    "Tvm0Qz57eMhW",
    "WM_tZEv8hn0T",
    "re24TUzKhziC",
    "Qcgt_I-peMhX",
    "AfdCmCvqeMhY",
    "nIApOtcueMhY",
    "0dVGYOQfeMhZ",
    "GRhuPohueMhZ",
    "iZYq16CHeMha",
    "0mX13Sa0lpdG",
    "Mx3cOc9xeMhb",
    "hdcAAh7teMhc",
    "k4aiX9WlqQ8W",
    "T5MYsXmHeMhd",
    "-M7Q3R6jeMhd",
    "1k1PpxdVeMhe",
    "eLhjgWGveMhf",
    "WR0jq1aheMhh",
    "QQ7lWGTG0f7_",
    "E5HCrslMeMhm"
   ],
   "name": "Data_Preprocessing - Đề bài thực hành.ipynb",
   "provenance": []
  },
  "kernelspec": {
   "display_name": "base",
   "language": "python",
   "name": "python3"
  },
  "language_info": {
   "codemirror_mode": {
    "name": "ipython",
    "version": 3
   },
   "file_extension": ".py",
   "mimetype": "text/x-python",
   "name": "python",
   "nbconvert_exporter": "python",
   "pygments_lexer": "ipython3",
   "version": "3.12.7"
  }
 },
 "nbformat": 4,
 "nbformat_minor": 1
}
